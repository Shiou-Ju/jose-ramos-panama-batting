{
 "cells": [
  {
   "cell_type": "code",
   "execution_count": 1,
   "metadata": {},
   "outputs": [
    {
     "name": "stdout",
     "output_type": "stream",
     "text": [
      "./videos/2022-08-10 Jose Ramos VS 右投 打席1_觸身.mp4: 1.83 minutes\n",
      "./videos/2022-08-10 Jose Ramos VS 右投 打席2_左安.mp4: 0.88 minutes\n",
      "./videos/2022-08-10 Jose Ramos VS 右投 打席3_三滾.mp4: 0.77 minutes\n",
      "./videos/2022-08-10 Jose Ramos VS 右投 打席4_三振.mp4: 2.50 minutes\n",
      "./videos/2022-08-13 Jose Ramos VS 右投 打席1_中安.mp4: 1.40 minutes\n",
      "./videos/2022-08-13 Jose Ramos VS 右投 打席2_雙殺.mp4: 0.20 minutes\n",
      "./videos/2022-08-13 Jose Ramos VS 右投 打席3_左飛.mp4: 1.42 minutes\n",
      "./videos/2022-08-13 Jose Ramos VS 左投 打席4_三振.mp4: 1.68 minutes\n",
      "./videos/2022-08-19 Jose Ramos VS 右投 打席1_三振.mp4: 1.18 minutes\n",
      "./videos/2022-08-19 Jose Ramos VS 右投 打席2_左安.mp4: 0.23 minutes\n",
      "./videos/2022-08-19 Jose Ramos VS 右投 打席3_游滾.mp4: 0.60 minutes\n",
      "./videos/2022-08-19 Jose Ramos VS 右投 打席4_游滾.mp4: 0.98 minutes\n",
      "./videos/2022-08-19 Jose Ramos VS 右投 打席5_中二安.mp4: 0.40 minutes\n",
      "./videos/2022-08-20 Jose Ramos VS 右投 打席1_三振.mp4: 1.30 minutes\n",
      "./videos/2022-08-20 Jose Ramos VS 右投 打席2_三振.mp4: 1.12 minutes\n",
      "./videos/2022-08-20 Jose Ramos VS 右投 打席3_三振.mp4: 1.85 minutes\n",
      "./videos/2022-08-20 Jose Ramos VS 右投 打席4_中安.mp4: 1.10 minutes\n",
      "./videos/2022-08-20 Jose Ramos VS 右投 打席5_二安.mp4: 0.95 minutes\n",
      "./videos/2022-08-21 Jose Ramos VS 左投 打席1_三振.mp4: 0.72 minutes\n",
      "./videos/2022-08-21 Jose Ramos VS 左投 打席2_投滾.mp4: 0.23 minutes\n",
      "./videos/2022-08-21 Jose Ramos VS 左投 打席3_三振.mp4: 0.82 minutes\n",
      "./videos/2022-08-21 Jose Ramos VS 左投 打席4_三滾.mp4: 0.23 minutes\n",
      "./videos/2022-08-21 Jose Ramos VS 右投 打席5_三振.mp4: 1.08 minutes\n",
      "./videos/2022-08-23 Jose Ramos VS 左投 打席1_左全.mp4: 1.37 minutes\n",
      "./videos/2022-08-23 Jose Ramos VS 左投 打席2_保送.mp4: 2.02 minutes\n",
      "./videos/2022-08-23 Jose Ramos VS 左投 打席3_保送.mp4: 2.20 minutes\n",
      "./videos/2022-08-23 Jose Ramos VS 右投 打席4_三滾.mp4: 0.80 minutes\n",
      "./videos/2022-08-23 Jose Ramos VS 右投 打席5_中安.mp4: 0.75 minutes\n",
      "./videos/2022-08-26 Jose Ramos VS 左投 打席1_左飛.mp4: 1.78 minutes\n",
      "./videos/2022-08-26 Jose Ramos VS 左投 打席2_右飛.mp4: 0.25 minutes\n",
      "./videos/2022-08-26 Jose Ramos VS 左投 打席3_左飛.mp4: 0.82 minutes\n",
      "./videos/2022-08-26 Jose Ramos VS 右投 打席4_左全.mp4: 3.03 minutes\n",
      "./videos/2022-08-31 Jose Ramos VS 左投 打席1_左飛.mp4: 0.42 minutes\n",
      "./videos/2022-08-31 Jose Ramos VS 左投 打席2_三振.mp4: 3.72 minutes\n",
      "./videos/2022-08-31 Jose Ramos VS 左投 打席3_三振.mp4: 2.73 minutes\n",
      "./videos/2022-08-31 Jose Ramos VS 左投 打席4_三振.mp4: 1.30 minutes\n",
      "./videos/2022-09-01 Jose Ramos VS 左投 打席1_三振.mp4: 0.88 minutes\n",
      "./videos/2022-09-01 Jose Ramos VS 右投 打席2_三振.mp4: 1.18 minutes\n",
      "./videos/2022-09-01 Jose Ramos VS 右投 打席3_三振.mp4: 1.22 minutes\n",
      "./videos/2022-09-01 Jose Ramos VS 右投 打席4_三振.mp4: 1.30 minutes\n",
      "./videos/2022-09-01 Jose Ramos VS 右投 打席5_三滾.mp4: 0.85 minutes\n",
      "./videos/2022-09-08 Jose Ramos VS 右投 打席1_保送.mp4: 2.22 minutes\n",
      "./videos/2022-09-08 Jose Ramos VS 右投 打席2_右飛.mp4: 0.73 minutes\n",
      "./videos/2022-09-08 Jose Ramos VS 右投 打席3_左安.mp4: 1.47 minutes\n",
      "./videos/2022-09-08 Jose Ramos VS 右投 打席4_保送.mp4: 2.15 minutes\n",
      "./videos/2022-09-10 Jose Ramos VS 右投 打席1_三失.mp4: 0.30 minutes\n",
      "./videos/2022-09-10 Jose Ramos VS 右投 打席2_二飛.mp4: 0.47 minutes\n",
      "./videos/2022-09-10 Jose Ramos VS 左投 打席3_中飛.mp4: 0.57 minutes\n",
      "./videos/2022-09-10 Jose Ramos VS 右投 打席4_三振.mp4: 1.00 minutes\n",
      "./videos/2022-09-10 Jose Ramos VS 右投 打席5_中飛.mp4: 0.90 minutes\n",
      "Total duration: 59.90 minutes\n"
     ]
    }
   ],
   "source": [
    "%%bash\n",
    "\n",
    "total_duration=0\n",
    "\n",
    "for file in ./videos/*.mp4; do\n",
    "  duration_seconds=$(ffprobe -v error -show_entries format=duration -of default=noprint_wrappers=1:nokey=1 \"$file\")\n",
    "  duration_minutes=$(echo \"$duration_seconds\" | awk '{printf \"%.2f\", $1 / 60}')\n",
    "  echo \"$file: $duration_minutes minutes\"\n",
    "  total_duration=$(echo \"$total_duration + $duration_minutes\" | bc)\n",
    "done\n",
    "\n",
    "total_rounded=$(echo \"scale=2; $total_duration / 1\" | bc)\n",
    "echo \"Total duration: $total_rounded minutes\"\n"
   ]
  }
 ],
 "metadata": {
  "kernelspec": {
   "display_name": "data-science",
   "language": "python",
   "name": "python3"
  },
  "language_info": {
   "codemirror_mode": {
    "name": "ipython",
    "version": 3
   },
   "file_extension": ".py",
   "mimetype": "text/x-python",
   "name": "python",
   "nbconvert_exporter": "python",
   "pygments_lexer": "ipython3",
   "version": "3.8.16"
  }
 },
 "nbformat": 4,
 "nbformat_minor": 2
}
