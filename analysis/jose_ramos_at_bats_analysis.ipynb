{
 "cells": [
  {
   "cell_type": "code",
   "execution_count": 2,
   "metadata": {},
   "outputs": [
    {
     "data": {
      "text/html": [
       "<div>\n",
       "<style scoped>\n",
       "    .dataframe tbody tr th:only-of-type {\n",
       "        vertical-align: middle;\n",
       "    }\n",
       "\n",
       "    .dataframe tbody tr th {\n",
       "        vertical-align: top;\n",
       "    }\n",
       "\n",
       "    .dataframe thead th {\n",
       "        text-align: right;\n",
       "    }\n",
       "</style>\n",
       "<table border=\"1\" class=\"dataframe\">\n",
       "  <thead>\n",
       "    <tr style=\"text-align: right;\">\n",
       "      <th></th>\n",
       "      <th>abs_id</th>\n",
       "      <th>file_name</th>\n",
       "      <th>file_name_date</th>\n",
       "      <th>file_name_player_name</th>\n",
       "      <th>file_name_pitcher_type</th>\n",
       "      <th>file_name_at_bat_number</th>\n",
       "      <th>file_name_result</th>\n",
       "      <th>is_filename_result_consistent</th>\n",
       "      <th>inning</th>\n",
       "      <th>at_bat_result</th>\n",
       "      <th>weather</th>\n",
       "      <th>game_time</th>\n",
       "    </tr>\n",
       "  </thead>\n",
       "  <tbody>\n",
       "    <tr>\n",
       "      <th>0</th>\n",
       "      <td>1</td>\n",
       "      <td>2022-09-10 Jose Ramos VS 右投 打席2_二飛.mp4</td>\n",
       "      <td>2022-09-10</td>\n",
       "      <td>Jose Ramos</td>\n",
       "      <td>RHP</td>\n",
       "      <td>2</td>\n",
       "      <td>二飛</td>\n",
       "      <td>True</td>\n",
       "      <td>4</td>\n",
       "      <td>4F</td>\n",
       "      <td>sunny</td>\n",
       "      <td>day</td>\n",
       "    </tr>\n",
       "  </tbody>\n",
       "</table>\n",
       "</div>"
      ],
      "text/plain": [
       "   abs_id                               file_name file_name_date  \\\n",
       "0       1  2022-09-10 Jose Ramos VS 右投 打席2_二飛.mp4     2022-09-10   \n",
       "\n",
       "  file_name_player_name file_name_pitcher_type  file_name_at_bat_number  \\\n",
       "0            Jose Ramos                    RHP                        2   \n",
       "\n",
       "  file_name_result  is_filename_result_consistent  inning at_bat_result  \\\n",
       "0               二飛                           True       4            4F   \n",
       "\n",
       "  weather game_time  \n",
       "0   sunny       day  "
      ]
     },
     "execution_count": 2,
     "metadata": {},
     "output_type": "execute_result"
    }
   ],
   "source": [
    "import pandas as pd\n",
    "\n",
    "abs_path = \"./labeled/50_abs_jose_ramos_20240308.csv\"\n",
    "pitches_path = \"./labeled/95_pitches_jose_ramos_20240308.csv\"\n",
    "\n",
    "abs_df = pd.read_csv(abs_path)\n",
    "pitches_df = pd.read_csv(pitches_path)\n",
    "\n",
    "abs_df.head(1)"
   ]
  },
  {
   "cell_type": "code",
   "execution_count": 3,
   "metadata": {},
   "outputs": [
    {
     "data": {
      "text/html": [
       "<div>\n",
       "<style scoped>\n",
       "    .dataframe tbody tr th:only-of-type {\n",
       "        vertical-align: middle;\n",
       "    }\n",
       "\n",
       "    .dataframe tbody tr th {\n",
       "        vertical-align: top;\n",
       "    }\n",
       "\n",
       "    .dataframe thead th {\n",
       "        text-align: right;\n",
       "    }\n",
       "</style>\n",
       "<table border=\"1\" class=\"dataframe\">\n",
       "  <thead>\n",
       "    <tr style=\"text-align: right;\">\n",
       "      <th></th>\n",
       "      <th>id</th>\n",
       "      <th>file_name</th>\n",
       "      <th>file_name_date</th>\n",
       "      <th>file_name_player_name</th>\n",
       "      <th>file_name_pitcher_type</th>\n",
       "      <th>file_name_at_bat_number</th>\n",
       "      <th>file_name_result</th>\n",
       "      <th>inning</th>\n",
       "      <th>abs_id</th>\n",
       "      <th>nth_pitch_ab</th>\n",
       "      <th>...</th>\n",
       "      <th>score_diffrence</th>\n",
       "      <th>is_team_leading</th>\n",
       "      <th>weather</th>\n",
       "      <th>game_time</th>\n",
       "      <th>has_swing_intention</th>\n",
       "      <th>horizontal_ending</th>\n",
       "      <th>vertical_ending</th>\n",
       "      <th>is_swing_delayed</th>\n",
       "      <th>is_swing_early</th>\n",
       "      <th>is_whiff</th>\n",
       "    </tr>\n",
       "  </thead>\n",
       "  <tbody>\n",
       "    <tr>\n",
       "      <th>0</th>\n",
       "      <td>4e1e4436-2ba9-41a0-b88a-5cc4641edcbe</td>\n",
       "      <td>2022-09-10 Jose Ramos VS 右投 打席2_二飛.mp4</td>\n",
       "      <td>2022-09-10</td>\n",
       "      <td>Jose Ramos</td>\n",
       "      <td>RHP</td>\n",
       "      <td>2.0</td>\n",
       "      <td>二飛</td>\n",
       "      <td>4.0</td>\n",
       "      <td>1</td>\n",
       "      <td>1</td>\n",
       "      <td>...</td>\n",
       "      <td>1</td>\n",
       "      <td>True</td>\n",
       "      <td>sunny</td>\n",
       "      <td>day</td>\n",
       "      <td>False</td>\n",
       "      <td>outside</td>\n",
       "      <td>low</td>\n",
       "      <td>False</td>\n",
       "      <td>False</td>\n",
       "      <td>False</td>\n",
       "    </tr>\n",
       "  </tbody>\n",
       "</table>\n",
       "<p>1 rows × 36 columns</p>\n",
       "</div>"
      ],
      "text/plain": [
       "                                     id  \\\n",
       "0  4e1e4436-2ba9-41a0-b88a-5cc4641edcbe   \n",
       "\n",
       "                                file_name file_name_date  \\\n",
       "0  2022-09-10 Jose Ramos VS 右投 打席2_二飛.mp4     2022-09-10   \n",
       "\n",
       "  file_name_player_name file_name_pitcher_type  file_name_at_bat_number  \\\n",
       "0            Jose Ramos                    RHP                      2.0   \n",
       "\n",
       "  file_name_result  inning  abs_id  nth_pitch_ab  ...  score_diffrence  \\\n",
       "0               二飛     4.0       1             1  ...                1   \n",
       "\n",
       "   is_team_leading  weather  game_time has_swing_intention horizontal_ending  \\\n",
       "0             True    sunny        day               False           outside   \n",
       "\n",
       "   vertical_ending is_swing_delayed is_swing_early  is_whiff  \n",
       "0              low            False          False     False  \n",
       "\n",
       "[1 rows x 36 columns]"
      ]
     },
     "execution_count": 3,
     "metadata": {},
     "output_type": "execute_result"
    }
   ],
   "source": [
    "pitches_df.head(1)"
   ]
  },
  {
   "cell_type": "markdown",
   "metadata": {},
   "source": [
    "### 確認欄位資訊 & 清理"
   ]
  },
  {
   "cell_type": "code",
   "execution_count": 4,
   "metadata": {},
   "outputs": [
    {
     "name": "stdout",
     "output_type": "stream",
     "text": [
      "abs_df row count: 50, column count: 12\n",
      "pitches_df row count: 93, column count: 36\n"
     ]
    }
   ],
   "source": [
    "print(f\"abs_df row count: {abs_df.shape[0]}, column count: {abs_df.shape[1]}\")\n",
    "print(f\"pitches_df row count: {pitches_df.shape[0]}, column count: {pitches_df.shape[1]}\")\n"
   ]
  },
  {
   "cell_type": "code",
   "execution_count": 5,
   "metadata": {},
   "outputs": [
    {
     "data": {
      "text/plain": [
       "Index(['id', 'file_name', 'file_name_date', 'file_name_player_name',\n",
       "       'file_name_pitcher_type', 'file_name_at_bat_number', 'file_name_result',\n",
       "       'inning', 'abs_id', 'nth_pitch_ab', 'out_count', 'strike_count',\n",
       "       'ball_count', 'is_rhp', 'at_bat_result',\n",
       "       'is_filename_result_consistent', 'has_stealing_attempt', 'pitch_type',\n",
       "       'pitch_release', 'is_obvious_off_zone', 'is_pitch_ended_catcher_want',\n",
       "       'has_swing', 'has_first_base_runner', 'has_second_base_runner',\n",
       "       'has_third_base_runner', 'has_visible_shift', 'score_diffrence',\n",
       "       'is_team_leading', 'weather', 'game_time', 'has_swing_intention',\n",
       "       'horizontal_ending', 'vertical_ending', 'is_swing_delayed',\n",
       "       'is_swing_early', 'is_whiff'],\n",
       "      dtype='object')"
      ]
     },
     "execution_count": 5,
     "metadata": {},
     "output_type": "execute_result"
    }
   ],
   "source": [
    "pitches_df.columns\n"
   ]
  },
  {
   "cell_type": "code",
   "execution_count": 22,
   "metadata": {},
   "outputs": [
    {
     "data": {
      "text/plain": [
       "Index(['abs_id', 'file_name', 'file_name_date', 'file_name_player_name',\n",
       "       'file_name_pitcher_type', 'file_name_at_bat_number', 'file_name_result',\n",
       "       'is_filename_result_consistent', 'inning', 'at_bat_result', 'weather',\n",
       "       'game_time'],\n",
       "      dtype='object')"
      ]
     },
     "execution_count": 22,
     "metadata": {},
     "output_type": "execute_result"
    }
   ],
   "source": [
    "abs_df.columns"
   ]
  },
  {
   "cell_type": "code",
   "execution_count": 20,
   "metadata": {},
   "outputs": [
    {
     "name": "stdout",
     "output_type": "stream",
     "text": [
      "Columns count: 25\n",
      "row count: 93\n",
      "cell count: 2325\n"
     ]
    },
    {
     "data": {
      "text/plain": [
       "Index(['id', 'abs_id', 'nth_pitch_ab', 'out_count', 'strike_count',\n",
       "       'ball_count', 'is_rhp', 'has_stealing_attempt', 'pitch_type',\n",
       "       'pitch_release', 'is_obvious_off_zone', 'is_pitch_ended_catcher_want',\n",
       "       'has_swing', 'has_first_base_runner', 'has_second_base_runner',\n",
       "       'has_third_base_runner', 'has_visible_shift', 'score_diffrence',\n",
       "       'is_team_leading', 'has_swing_intention', 'horizontal_ending',\n",
       "       'vertical_ending', 'is_swing_delayed', 'is_swing_early', 'is_whiff'],\n",
       "      dtype='object')"
      ]
     },
     "execution_count": 20,
     "metadata": {},
     "output_type": "execute_result"
    }
   ],
   "source": [
    "# 刪除 pitches 無用欄位\n",
    "# 因 abs 已有正確及詳細的\n",
    "columns_to_drop = [\n",
    "    'file_name', 'file_name_date', 'file_name_player_name',\n",
    "    'file_name_pitcher_type', 'file_name_at_bat_number', 'file_name_result',\n",
    "    'inning', 'is_filename_result_consistent', 'at_bat_result', 'game_time',  'weather'\n",
    "]\n",
    "\n",
    "# 逐球記錄的資料量\n",
    "pitches_df_cleaned = pitches_df.drop(columns=columns_to_drop, axis=1)\n",
    "print(f\"Columns count: {pitches_df_cleaned.shape[1]}\")\n",
    "print(f\"row count: {pitches_df_cleaned.shape[0]}\")\n",
    "print(\n",
    "    f\"cell count: {pitches_df_cleaned.shape[0] *pitches_df_cleaned.shape[1] }\")\n",
    "\n",
    "pitches_df_cleaned.columns\n"
   ]
  },
  {
   "cell_type": "code",
   "execution_count": 21,
   "metadata": {},
   "outputs": [
    {
     "name": "stdout",
     "output_type": "stream",
     "text": [
      "abs_df row count: 50, column count: 12\n",
      "abs_df cell counts: 600\n"
     ]
    }
   ],
   "source": [
    "# 打席數的資料量\n",
    "print(f\"abs_df cell counts: {abs_df.shape[0] *abs_df.shape[1]}\")"
   ]
  },
  {
   "cell_type": "code",
   "execution_count": 7,
   "metadata": {},
   "outputs": [
    {
     "name": "stdout",
     "output_type": "stream",
     "text": [
      "vertical_ending unique value: ['low' 'high' 'middle']\n",
      "horizontal_ending unique value: ['outside' 'middle' 'inside']\n",
      "is_rhp unique value: [ True False]\n",
      "pitch_type unique value: ['slider' 'four_seam' 'sinker' 'curve' 'changeup' 'cutter']\n",
      "pitch_release unique value: ['overhand' 'side_arm']\n"
     ]
    }
   ],
   "source": [
    "# 確認是否各球欄位都是預設的值\n",
    "fields_to_validate = ['vertical_ending', 'horizontal_ending', 'is_rhp', 'pitch_type', 'pitch_release']\n",
    "\n",
    "for field in fields_to_validate:\n",
    "    print(f\"{field} unique value: {pitches_df_cleaned[field].unique()}\")\n"
   ]
  },
  {
   "cell_type": "code",
   "execution_count": 60,
   "metadata": {},
   "outputs": [
    {
     "name": "stdout",
     "output_type": "stream",
     "text": [
      "File saved: ./jose_ramos_pitches_df_cleaned.csv\n"
     ]
    }
   ],
   "source": [
    "import os\n",
    "\n",
    "output_file_path = './jose_ramos_pitches_df_cleaned.csv'\n",
    "\n",
    "if not os.path.exists(output_file_path):\n",
    "    pitches_df_cleaned.to_csv(output_file_path, index=False)\n",
    "    print(f\"File saved: {output_file_path}\")\n",
    "else:\n",
    "    print(\"File already exists.\")"
   ]
  },
  {
   "cell_type": "markdown",
   "metadata": {},
   "source": [
    "### 完成初步清理"
   ]
  },
  {
   "cell_type": "markdown",
   "metadata": {},
   "source": [
    "### 影片分類邏輯 & 基礎數據\n",
    "\n"
   ]
  },
  {
   "cell_type": "code",
   "execution_count": 65,
   "metadata": {},
   "outputs": [
    {
     "data": {
      "text/plain": [
       "Index(['abs_id', 'file_name', 'file_name_date', 'file_name_player_name',\n",
       "       'file_name_pitcher_type', 'file_name_at_bat_number', 'file_name_result',\n",
       "       'is_filename_result_consistent', 'inning', 'at_bat_result', 'weather',\n",
       "       'game_time'],\n",
       "      dtype='object')"
      ]
     },
     "execution_count": 65,
     "metadata": {},
     "output_type": "execute_result"
    }
   ],
   "source": [
    "abs_df.columns"
   ]
  },
  {
   "cell_type": "code",
   "execution_count": 80,
   "metadata": {},
   "outputs": [
    {
     "data": {
      "text/plain": [
       "array(['4F', 'SK', '6G', '7_HR', 'CK', '7_1B', '5G', '7F', 'BB', '7_2B',\n",
       "       '6_1B', '9F', '8_2B', '1G', '4_1B', '8F', 'DB', '8_1B'],\n",
       "      dtype=object)"
      ]
     },
     "execution_count": 80,
     "metadata": {},
     "output_type": "execute_result"
    }
   ],
   "source": [
    "abs_df['at_bat_result'].unique()\n"
   ]
  },
  {
   "cell_type": "code",
   "execution_count": 81,
   "metadata": {},
   "outputs": [
    {
     "name": "stdout",
     "output_type": "stream",
     "text": [
      "Empty DataFrame\n",
      "Columns: [at_bat_result, at_bat_result_group]\n",
      "Index: []\n"
     ]
    }
   ],
   "source": [
    "def categorize_at_bat_result(result):\n",
    "    if '_' in result :\n",
    "        return '安打'\n",
    "    elif result in ['DB', 'BB']:\n",
    "        return '保送'\n",
    "    elif result.endswith('F'):\n",
    "        return '飛球'\n",
    "    elif result.endswith('G'):\n",
    "        return '滾地球'\n",
    "    elif 'K' in result:\n",
    "        return '三振'\n",
    "    else:\n",
    "        return '其他'\n",
    "\n",
    "abs_df['at_bat_result_group'] = abs_df['at_bat_result'].apply(categorize_at_bat_result)\n",
    "\n",
    "# 驗證有無其他類別\n",
    "print(abs_df[abs_df['at_bat_result_group'] == '其他'][['at_bat_result', 'at_bat_result_group']])\n"
   ]
  },
  {
   "cell_type": "code",
   "execution_count": 100,
   "metadata": {},
   "outputs": [
    {
     "name": "stdout",
     "output_type": "stream",
     "text": [
      "at_bat_result_group\n",
      "三振     34.0\n",
      "安打     20.0\n",
      "飛球     18.0\n",
      "滾地球    18.0\n",
      "保送     10.0\n",
      "Name: proportion, dtype: float64\n"
     ]
    }
   ],
   "source": [
    "# 計算打席結果比例\n",
    "group_counts = abs_df['at_bat_result_group'].value_counts(normalize=True) * 100\n",
    "\n",
    "print(group_counts)"
   ]
  },
  {
   "cell_type": "code",
   "execution_count": 117,
   "metadata": {},
   "outputs": [
    {
     "name": "stdout",
     "output_type": "stream",
     "text": [
      "Total bases from hits: 18\n"
     ]
    }
   ],
   "source": [
    "# 計算壘打數\n",
    "def calculate_tb(result):\n",
    "    if '1B' in result:\n",
    "        return 1\n",
    "    elif '2B' in result:\n",
    "        return 2\n",
    "    elif '3B' in result:\n",
    "        return 3\n",
    "    elif 'HR' in result:\n",
    "        return 4\n",
    "    else:\n",
    "        return 0\n",
    "\n",
    "abs_df['total_bases'] = abs_df['at_bat_result'].apply(calculate_tb)\n",
    "\n",
    "total_bases = abs_df['total_bases'].sum()\n",
    "\n",
    "print(f\"Total bases from hits: {total_bases}\")\n"
   ]
  },
  {
   "cell_type": "code",
   "execution_count": 118,
   "metadata": {},
   "outputs": [
    {
     "name": "stdout",
     "output_type": "stream",
     "text": [
      "GO/AO ratio: 1.00\n"
     ]
    }
   ],
   "source": [
    "# 出局數\n",
    "ground_outs = abs_df[abs_df['at_bat_result_group'] == '滾地球'].shape[0]\n",
    "fly_outs = abs_df[abs_df['at_bat_result_group'] == '飛球'].shape[0]\n",
    "\n",
    "# 滾飛比計算\n",
    "go_ao_ratio = ground_outs / fly_outs if fly_outs > 0 else 0\n",
    "print(f\"GO/AO ratio: {go_ao_ratio:.2f}\")\n"
   ]
  },
  {
   "cell_type": "code",
   "execution_count": 141,
   "metadata": {},
   "outputs": [
    {
     "name": "stdout",
     "output_type": "stream",
     "text": [
      "AVG: 0.200, OBP: 0.300, SLG: 0.360, OPS: 0.660\n"
     ]
    }
   ],
   "source": [
    "# 整體數據\n",
    "hits = abs_df[abs_df['at_bat_result_group'] == '安打'].shape[0]\n",
    "walks = abs_df[abs_df['at_bat_result_group'] == '保送'].shape[0]\n",
    "at_bats = abs_df.shape[0]\n",
    "\n",
    "overall_avg = hits / at_bats\n",
    "overall_obp = (hits + walks) / at_bats\n",
    "overall_slg = total_bases / at_bats\n",
    "overall_ops = overall_obp + overall_slg\n",
    "\n",
    "print(f\"AVG: {overall_avg:.3f}, OBP: {overall_obp:.3f}, SLG: {overall_slg:.3f}, OPS: {overall_ops:.3f}\")\n"
   ]
  },
  {
   "cell_type": "code",
   "execution_count": 142,
   "metadata": {},
   "outputs": [
    {
     "name": "stdout",
     "output_type": "stream",
     "text": [
      "根據左右投:\n",
      "                             AVG       OBP       SLG       OPS\n",
      "file_name_pitcher_type                                        \n",
      "LHP                     0.058824  0.176471  0.235294  0.411765\n",
      "RHP                     0.272727  0.363636  0.424242  0.787879\n",
      "\n",
      "根據比賽時間不同:\n",
      "                AVG       OBP       SLG       OPS\n",
      "game_time                                        \n",
      "day        0.178571  0.285714  0.285714  0.571429\n",
      "night      0.238095  0.333333  0.476190  0.809524\n",
      "unknown    0.000000  0.000000  0.000000  0.000000\n",
      "\n",
      "根據天氣不同:\n",
      "              AVG       OBP       SLG       OPS\n",
      "weather                                        \n",
      "cloudy   0.285714  0.285714  0.285714  0.571429\n",
      "sunny    0.190476  0.309524  0.380952  0.690476\n",
      "unknown  0.000000  0.000000  0.000000  0.000000\n"
     ]
    }
   ],
   "source": [
    "# 根據不同情況 split\n",
    "\n",
    "def calculate_different_situation_traditional_stats(group):\n",
    "    hits = group[group['at_bat_result_group'] == '安打'].shape[0]\n",
    "    walks = group[group['at_bat_result_group'] == '保送'].shape[0]\n",
    "    at_bats = group.shape[0]\n",
    "    total_bases = group['total_bases'].sum()\n",
    "\n",
    "    avg = hits / at_bats if at_bats > 0 else 0\n",
    "    obp = (hits + walks) / at_bats if at_bats > 0 else 0\n",
    "    slg = total_bases / at_bats if at_bats > 0 else 0\n",
    "    ops = slg+obp\n",
    "\n",
    "    return pd.Series({'AVG': avg, 'OBP': obp, 'SLG': slg, 'OPS': ops})\n",
    "\n",
    "\n",
    "stats_by_pitcher_type = abs_df.groupby('file_name_pitcher_type').apply(\n",
    "    calculate_different_situation_traditional_stats)\n",
    "stats_by_game_time = abs_df.groupby('game_time').apply(\n",
    "    calculate_different_situation_traditional_stats)\n",
    "stats_by_weather = abs_df.groupby('weather').apply(\n",
    "    calculate_different_situation_traditional_stats)\n",
    "\n",
    "print(\"根據左右投:\")\n",
    "print(stats_by_pitcher_type)\n",
    "print(\"\\n根據比賽時間不同:\")\n",
    "print(stats_by_game_time)\n",
    "print(\"\\n根據天氣不同:\")\n",
    "print(stats_by_weather)\n"
   ]
  },
  {
   "cell_type": "code",
   "execution_count": 136,
   "metadata": {},
   "outputs": [
    {
     "name": "stdout",
     "output_type": "stream",
     "text": [
      "abs according to LHP/RHP:\n",
      "file_name_pitcher_type\n",
      "LHP    17\n",
      "RHP    33\n",
      "dtype: int64\n"
     ]
    }
   ],
   "source": [
    "# LHP 較差？\n",
    "at_bats_by_pitcher_type = abs_df.groupby('file_name_pitcher_type').size()\n",
    "\n",
    "print(\"abs according to LHP/RHP:\")\n",
    "print(at_bats_by_pitcher_type)\n"
   ]
  },
  {
   "cell_type": "code",
   "execution_count": 145,
   "metadata": {},
   "outputs": [
    {
     "name": "stdout",
     "output_type": "stream",
     "text": [
      "左右投與整體的差距:\n",
      "                        AVG_Diff  OBP_Diff  SLG_Diff  OPS_Diff\n",
      "file_name_pitcher_type                                        \n",
      "LHP                    -0.141176 -0.123529 -0.124706 -0.248235\n",
      "RHP                     0.072727  0.063636  0.064242  0.127879\n"
     ]
    }
   ],
   "source": [
    "# 左右投的表現與平均的差異\n",
    "stats_by_pitcher_type['AVG_Diff'] = stats_by_pitcher_type['AVG'] - overall_avg\n",
    "stats_by_pitcher_type['OBP_Diff'] = stats_by_pitcher_type['OBP'] - overall_obp\n",
    "stats_by_pitcher_type['SLG_Diff'] = stats_by_pitcher_type['SLG'] - overall_slg\n",
    "stats_by_pitcher_type['OPS_Diff'] = stats_by_pitcher_type['OPS'] - overall_ops\n",
    "\n",
    "print(\"左右投與整體的差距:\")\n",
    "print(stats_by_pitcher_type[['AVG_Diff', 'OBP_Diff', 'SLG_Diff','OPS_Diff']])\n"
   ]
  },
  {
   "cell_type": "code",
   "execution_count": 137,
   "metadata": {},
   "outputs": [
    {
     "name": "stdout",
     "output_type": "stream",
     "text": [
      "abs according to weather:\n",
      "weather\n",
      "cloudy      7\n",
      "sunny      42\n",
      "unknown     1\n",
      "dtype: int64\n"
     ]
    }
   ],
   "source": [
    "# LHP 較差？\n",
    "at_bats_by_weather = abs_df.groupby('weather').size()\n",
    "\n",
    "print(\"abs according to weather:\")\n",
    "print(at_bats_by_weather)\n"
   ]
  },
  {
   "cell_type": "markdown",
   "metadata": {},
   "source": [
    "### 結論\n",
    "1. 左投打不好， OPS 可以差右投到 0.37 \n",
    "2. 夜間比賽表現較好，有 0.47 左右的 SLG，相較白天只有 0.26\n",
    "#### 次要結論：\n",
    "1. 天氣陰陰的較容易出現安打，但整體攻擊水準沒有提升\n",
    "2. 極高三振率，但可能是因為小樣本誤差\n"
   ]
  },
  {
   "cell_type": "markdown",
   "metadata": {},
   "source": [
    "### 觀察：第一球似乎不愛出棒"
   ]
  },
  {
   "cell_type": "code",
   "execution_count": 133,
   "metadata": {},
   "outputs": [
    {
     "name": "stdout",
     "output_type": "stream",
     "text": [
      "original row counts: 26\n",
      "latter row counts: 23\n"
     ]
    }
   ],
   "source": [
    "# 合併兩張表\n",
    "combined_df = pd.merge(pitches_df_cleaned, abs_df, on='abs_id', how='left')\n",
    "\n",
    "first_pitches_df = combined_df.loc[combined_df.groupby('abs_id')[\n",
    "    'nth_pitch_ab'].idxmin()]\n",
    "\n",
    "print(f\"original row counts: {first_pitches_df.shape[0]}\")\n",
    "\n",
    "# 有些打席不是從第一球開始\n",
    "first_pitches_df = first_pitches_df[first_pitches_df['nth_pitch_ab'] == 1]\n",
    "\n",
    "print(f\"latter row counts: {first_pitches_df.shape[0]}\")"
   ]
  },
  {
   "cell_type": "code",
   "execution_count": 121,
   "metadata": {},
   "outputs": [
    {
     "name": "stdout",
     "output_type": "stream",
     "text": [
      "overall swing intention: 0.58\n",
      "overall swing: 0.52\n",
      "overall whiff rate: 0.33\n"
     ]
    }
   ],
   "source": [
    "# 整體出棒意圖 & 整體揮空比例\n",
    "overall_swing_intention_rate = pitches_df_cleaned['has_swing_intention'].mean()\n",
    "overall_swing_rate = pitches_df_cleaned['has_swing'].mean()\n",
    "\n",
    "overall_whiff_rate = pitches_df_cleaned[pitches_df_cleaned['has_swing'] == True]['is_whiff'].mean()\n",
    "\n",
    "print(f\"overall swing intention: {overall_swing_intention_rate:.2f}\")\n",
    "print(f\"overall swing: {overall_swing_rate:.2f}\")\n",
    "print(f\"overall whiff rate: {overall_whiff_rate:.2f}\")"
   ]
  },
  {
   "cell_type": "markdown",
   "metadata": {},
   "source": [
    "#### 是相對愛出棒的打者\n",
    "\n",
    "以 Juan Soto 為例：\n",
    "```\n",
    "Juan Soto, 2021:\n",
    "\n",
    "35.0% swing rate, lowest in @MLB (min 1750 pitches seen)\n",
    "```\n",
    "https://twitter.com/SlangsOnSports/status/1508600071130132485\n",
    "來源"
   ]
  },
  {
   "cell_type": "code",
   "execution_count": 122,
   "metadata": {},
   "outputs": [
    {
     "name": "stdout",
     "output_type": "stream",
     "text": [
      "Intention to swing on first pitch: 0.43\n",
      "Swing rate on the first pitch: 0.39\n",
      "Whiff rate on the first pitch when swinging: 0.33\n"
     ]
    }
   ],
   "source": [
    "# 第一球出棒情況\n",
    "first_ball_swing_intention_rate = first_pitches_df['has_swing_intention'].mean(\n",
    ")\n",
    "\n",
    "first_ball_swing_rate = first_pitches_df['has_swing'].mean()\n",
    "\n",
    "first_ball_whiff_rate = first_pitches_df[first_pitches_df['has_swing']\n",
    "                                         == True]['is_whiff'].mean()\n",
    "\n",
    "print(\n",
    "    f\"Intention to swing on first pitch: {first_ball_swing_intention_rate:.2f}\")\n",
    "print(f\"Swing rate on the first pitch: {first_ball_swing_rate:.2f}\")\n",
    "print(\n",
    "    f\"Whiff rate on the first pitch when swinging: {first_ball_whiff_rate:.2f}\")\n"
   ]
  },
  {
   "cell_type": "markdown",
   "metadata": {},
   "source": [
    "### 結論\n",
    "第一球是有下降 15% 的整體揮棒意圖，實際揮棒上也將低了 13% ，說明比較容易看第一球。\n",
    "\n",
    "喜歡先等一球，如果有機會再精細分析球種以及不同投手的比較。"
   ]
  },
  {
   "cell_type": "markdown",
   "metadata": {},
   "source": [
    "### 觀察：壘上有人較積極?\n",
    "亦即出棒意圖，比壘上沒人的時候還要多"
   ]
  },
  {
   "cell_type": "code",
   "execution_count": 123,
   "metadata": {},
   "outputs": [
    {
     "data": {
      "text/plain": [
       "0    False\n",
       "1    False\n",
       "2     True\n",
       "3     True\n",
       "4     True\n",
       "Name: any_on_base, dtype: bool"
      ]
     },
     "execution_count": 123,
     "metadata": {},
     "output_type": "execute_result"
    }
   ],
   "source": [
    "# 新增任一壘包有人的欄位\n",
    "pitches_df_cleaned['any_on_base'] = pitches_df_cleaned[['has_first_base_runner', 'has_second_base_runner', 'has_third_base_runner']].any(axis=1)\n",
    "\n",
    "pitches_df_cleaned['any_on_base'].head()"
   ]
  },
  {
   "cell_type": "code",
   "execution_count": 124,
   "metadata": {},
   "outputs": [
    {
     "data": {
      "text/plain": [
       "any_on_base\n",
       "False    0.509804\n",
       "True     0.666667\n",
       "Name: has_swing_intention, dtype: float64"
      ]
     },
     "execution_count": 124,
     "metadata": {},
     "output_type": "execute_result"
    }
   ],
   "source": [
    "# group 計算有人及無人的出棒意圖比例\n",
    "swing_intention_rates = pitches_df_cleaned.groupby('any_on_base')['has_swing_intention'].mean()\n",
    "\n",
    "swing_intention_rates"
   ]
  },
  {
   "cell_type": "code",
   "execution_count": 125,
   "metadata": {},
   "outputs": [
    {
     "name": "stdout",
     "output_type": "stream",
     "text": [
      "base_combination\n",
      "000    0.509804\n",
      "001    0.166667\n",
      "010    0.666667\n",
      "011    1.000000\n",
      "100    0.631579\n",
      "101    0.750000\n",
      "110    1.000000\n",
      "111    1.000000\n",
      "Name: has_swing_intention, dtype: float64\n"
     ]
    }
   ],
   "source": [
    "# 定義八種壘上有人情況\n",
    "def label_bases(row):\n",
    "    return f\"{int(row['has_first_base_runner'])}{int(row['has_second_base_runner'])}{int(row['has_third_base_runner'])}\"\n",
    "\n",
    "# TODO: make string format better\n",
    "# def label_bases(row):\n",
    "#     bases = ['一', '二', '三']\n",
    "#     runners = [row['has_first_base_runner'], row['has_second_base_runner'], row['has_third_base_runner']]\n",
    "#     description = ''.join([bases[i] for i, runner in enumerate(runners) if runner])\n",
    "#     return f\"{description}壘有人\" if description else \"壘上無人\"\n",
    "\n",
    "pitches_df_cleaned['base_combination'] = pitches_df_cleaned.apply(label_bases, axis=1)\n",
    "\n",
    "swing_intention_rates_by_combination = pitches_df_cleaned.groupby('base_combination')['has_swing_intention'].mean()\n",
    "\n",
    "print(swing_intention_rates_by_combination)\n"
   ]
  },
  {
   "cell_type": "markdown",
   "metadata": {},
   "source": [
    "### 結論\n",
    "壘上有人的時候較積極，整體出棒意圖大概多出 15%。\n",
    "二三壘有人以及滿壘，為小樣本數，印象中僅一個打席。"
   ]
  },
  {
   "cell_type": "markdown",
   "metadata": {},
   "source": [
    "### 觀察：喜歡揮高球且容易揮空？"
   ]
  },
  {
   "cell_type": "code",
   "execution_count": 126,
   "metadata": {},
   "outputs": [
    {
     "name": "stdout",
     "output_type": "stream",
     "text": [
      "釣高球時的出棒意圖比例: 0.35\n",
      "釣高球時的揮空比例: 0.40\n"
     ]
    }
   ],
   "source": [
    "# pitch ending 高位的數據\n",
    "high_off_zone_pitch_df = pitches_df_cleaned[(pitches_df_cleaned['vertical_ending'] == 'high') & \n",
    "                                            (pitches_df_cleaned['is_obvious_off_zone'] == True)]\n",
    "\n",
    "# 計算高位 offzone 投球時的出棒意圖\n",
    "high_pitch_swing_intention_rate = high_off_zone_pitch_df['has_swing_intention'].mean()\n",
    "\n",
    "# 計算高位 offzone 揮空比例\n",
    "high_off_zone_swings = high_off_zone_pitch_df[high_off_zone_pitch_df['has_swing'] == True]\n",
    "\n",
    "high_pitch_whiff_rate = high_off_zone_swings['is_whiff'].mean()\n",
    "\n",
    "\n",
    "print(f\"釣高球時的出棒意圖比例: {high_pitch_swing_intention_rate:.2f}\")\n",
    "print(f\"釣高球時的揮空比例: {high_pitch_whiff_rate:.2f}\")\n"
   ]
  },
  {
   "cell_type": "markdown",
   "metadata": {},
   "source": [
    "但此數據跟看影片時的印象不一樣，因此進一步根據內外角去分析"
   ]
  },
  {
   "cell_type": "code",
   "execution_count": 127,
   "metadata": {},
   "outputs": [
    {
     "name": "stdout",
     "output_type": "stream",
     "text": [
      "釣高球不同橫向位置的出棒意圖：\n",
      "horizontal_ending\n",
      "inside     0.000000\n",
      "middle     0.666667\n",
      "outside    0.333333\n",
      "Name: has_swing_intention, dtype: float64\n"
     ]
    }
   ],
   "source": [
    "# 不同橫向位置位置釣高球的比例\n",
    "swing_intention_rates_by_position = high_off_zone_pitch_df.groupby([ 'horizontal_ending'])['has_swing_intention'].mean()\n",
    "\n",
    "print(\"釣高球不同橫向位置的出棒意圖：\")\n",
    "print(swing_intention_rates_by_position)"
   ]
  },
  {
   "cell_type": "code",
   "execution_count": 128,
   "metadata": {},
   "outputs": [
    {
     "name": "stdout",
     "output_type": "stream",
     "text": [
      "\n",
      "不同橫向位置釣高球揮空比例：\n",
      "vertical_ending  horizontal_ending\n",
      "high             middle               0.5\n",
      "                 outside              0.0\n",
      "Name: is_whiff, dtype: float64\n"
     ]
    }
   ],
   "source": [
    "# 不同橫向位置釣高球揮空比例\n",
    "high_off_zone_swings = high_off_zone_pitch_df[high_off_zone_pitch_df['has_swing'] == True]\n",
    "whiff_rates_by_position = high_off_zone_swings.groupby(['vertical_ending', 'horizontal_ending'])['is_whiff'].mean()\n",
    "\n",
    "print(\"\\n不同橫向位置釣高球揮空比例：\")\n",
    "print(whiff_rates_by_position)\n"
   ]
  },
  {
   "cell_type": "markdown",
   "metadata": {},
   "source": [
    "釣高球要投在中間的位置最有效"
   ]
  },
  {
   "cell_type": "code",
   "execution_count": 129,
   "metadata": {},
   "outputs": [
    {
     "name": "stdout",
     "output_type": "stream",
     "text": [
      "釣高球在不同橫向位置，在不同球數及球種的出棒意圖\n",
      "vertical_ending  horizontal_ending  pitch_type  strike_count\n",
      "high             inside             changeup    1               0.000000\n",
      "                                    four_seam   0               0.000000\n",
      "                                                2               0.000000\n",
      "                                    sinker      2               0.000000\n",
      "                                    slider      0               0.000000\n",
      "                 middle             four_seam   0               1.000000\n",
      "                                                1               0.333333\n",
      "                                                2               1.000000\n",
      "                 outside            curve       1               0.000000\n",
      "                                    cutter      2               0.000000\n",
      "                                    four_seam   1               0.000000\n",
      "                                                2               0.500000\n",
      "                                    slider      1               1.000000\n",
      "Name: has_swing_intention, dtype: float64\n",
      "\n",
      "釣高球在不同橫向位置，球種以及球數，揮空統計\n",
      "vertical_ending  horizontal_ending  pitch_type  strike_count\n",
      "high             middle             four_seam   0               0.0\n",
      "                                                1               0.0\n",
      "                                                2               1.0\n",
      "                 outside            slider      1               0.0\n",
      "Name: is_whiff, dtype: float64\n"
     ]
    }
   ],
   "source": [
    "high_off_zone_intension_detailed = high_off_zone_pitch_df.groupby(\n",
    "    ['vertical_ending', 'horizontal_ending', 'pitch_type', 'strike_count']\n",
    ")['has_swing_intention'].mean()\n",
    "\n",
    "print(\"釣高球在不同橫向位置，在不同球數及球種的出棒意圖\")\n",
    "print(high_off_zone_intension_detailed)\n",
    "\n",
    "high_off_zone_whiff_detailed = high_off_zone_swings.groupby(\n",
    "    ['vertical_ending', 'horizontal_ending', 'pitch_type', 'strike_count']\n",
    ")['is_whiff'].mean()\n",
    "\n",
    "print(\"\\n釣高球在不同橫向位置，球種以及球數，揮空統計\")\n",
    "print(high_off_zone_whiff_detailed)"
   ]
  },
  {
   "cell_type": "code",
   "execution_count": 130,
   "metadata": {},
   "outputs": [],
   "source": [
    "# TODO: 先不要這一段\n",
    "# # 計算差距\n",
    "# middle_swing_intention = high_off_zone_intension_detailed.xs('middle', level='horizontal_ending')\n",
    "# middle_whiff_rate = high_off_zone_whiff_detailed.xs('middle', level='horizontal_ending')\n",
    "\n",
    "# middle_swing_intention_avg = middle_swing_intention.mean()\n",
    "# middle_whiff_rate_avg = middle_whiff_rate.mean()\n",
    "\n",
    "# swing_intention_diff = middle_swing_intention_avg - overall_swing_intention_rate\n",
    "# whiff_rate_diff = middle_whiff_rate_avg - overall_whiff_rate\n",
    "\n",
    "# swing_intention_diff_pct = (swing_intention_diff / overall_swing_intention_rate) * 100\n",
    "# whiff_rate_diff_pct = (whiff_rate_diff / overall_whiff_rate) * 100\n",
    "\n",
    "# print(f\"中間位置揮棒意圖跟整體的差異: {swing_intention_diff_pct:.2f}%\")\n",
    "# print(f\"中間位置揮空比例跟整體的差異: {whiff_rate_diff_pct:.2f}%\")\n"
   ]
  },
  {
   "cell_type": "markdown",
   "metadata": {},
   "source": [
    "#### 中間位置釣高球是有效的，但不能太外角\n",
    "且不論球速是否領先都有一定效果"
   ]
  },
  {
   "cell_type": "markdown",
   "metadata": {},
   "source": [
    "好球帶附近位置又是如何呢？"
   ]
  },
  {
   "cell_type": "code",
   "execution_count": 163,
   "metadata": {},
   "outputs": [
    {
     "name": "stdout",
     "output_type": "stream",
     "text": [
      "進壘點在 high 位 zone 時的出棒意圖比例: 0.54\n",
      "進壘點在 high 位 zone 時的揮空比例: 0.39\n",
      "進壘點在 middle 位 zone 時的出棒意圖比例: 0.79\n",
      "進壘點在 middle 位 zone 時的揮空比例: 0.14\n",
      "進壘點在 low 位 zone 時的出棒意圖比例: 0.51\n",
      "進壘點在 low 位 zone 時的揮空比例: 0.44\n"
     ]
    }
   ],
   "source": [
    "# 根據垂直位置，球若在好球帶附近，看出棒意圖以及各自揮空的比率\n",
    "# TODO: 視覺化 九宮格\n",
    "for vertical_position in ['high', 'middle', 'low']:\n",
    "    specific_near_zone_df = pitches_df_cleaned[(pitches_df_cleaned['vertical_ending'] == vertical_position)]\n",
    "    \n",
    "    rhp_swing_intention_rate = specific_near_zone_df['has_swing_intention'].mean()\n",
    "    rhp_out_side_low_swings_df = specific_near_zone_df[specific_near_zone_df['has_swing'] == True]\n",
    "    rhp_out_side_low_whiff_rate = rhp_out_side_low_swings_df['is_whiff'].mean()\n",
    "    \n",
    "    print(f\"進壘點在 {vertical_position} 位 zone 時的出棒意圖比例: {rhp_swing_intention_rate:.2f}\")\n",
    "    print(f\"進壘點在 {vertical_position} 位 zone 時的揮空比例: {rhp_out_side_low_whiff_rate:.2f}\")\n"
   ]
  },
  {
   "cell_type": "markdown",
   "metadata": {},
   "source": [
    "喜歡內角，也不容易揮空"
   ]
  },
  {
   "cell_type": "code",
   "execution_count": 164,
   "metadata": {},
   "outputs": [
    {
     "name": "stdout",
     "output_type": "stream",
     "text": [
      "進壘點在 high 位 offzone 時的出棒意圖比例: 0.35\n",
      "進壘點在 high 位 offzone 時的揮空比例: 0.40\n",
      "進壘點在 middle 位 offzone 時的出棒意圖比例: nan\n",
      "進壘點在 middle 位 offzone 時的揮空比例: nan\n",
      "進壘點在 low 位 offzone 時的出棒意圖比例: 0.53\n",
      "進壘點在 low 位 offzone 時的揮空比例: 0.80\n"
     ]
    }
   ],
   "source": [
    "# 根據垂直位置 off-zone \n",
    "for vertical_position in ['high', 'middle', 'low']:\n",
    "    specific_off_zone_df = pitches_df_cleaned[(pitches_df_cleaned['vertical_ending'] == vertical_position) &\n",
    "                                              (pitches_df_cleaned['is_obvious_off_zone'] == True)]\n",
    "    \n",
    "    rhp_swing_intention_rate = specific_off_zone_df['has_swing_intention'].mean()\n",
    "    rhp_out_side_low_swings_df = specific_off_zone_df[specific_off_zone_df['has_swing'] == True]\n",
    "    rhp_out_side_low_whiff_rate = rhp_out_side_low_swings_df['is_whiff'].mean()\n",
    "    \n",
    "    print(f\"進壘點在 {vertical_position} 位 offzone 時的出棒意圖比例: {rhp_swing_intention_rate:.2f}\")\n",
    "    print(f\"進壘點在 {vertical_position} 位 offzone 時的揮空比例: {rhp_out_side_low_whiff_rate:.2f}\")\n"
   ]
  },
  {
   "cell_type": "markdown",
   "metadata": {},
   "source": [
    "**外角 offzone 低球** 容易吸引出棒且揮空\n",
    "\n",
    "但是出棒意圖需要進一步評估，需要驗證是否因為球種不同而有差\n",
    "\n",
    "這次的集合沒有觀察到 Middle off zone 的情況\n",
    "例如腰帶附近的觸身球"
   ]
  },
  {
   "cell_type": "markdown",
   "metadata": {},
   "source": [
    "### 結論：中間位置釣高球是有效的\n",
    "1. 但不能太外角，且不論球速是否領先都有一定效果\n",
    "2. 喜歡打中間位置的球\n",
    "3. 外角 offzone 低球，容易吸引出棒且揮空"
   ]
  },
  {
   "cell_type": "markdown",
   "metadata": {},
   "source": [
    "### 觀察：極度拉打？\n",
    "或許可以從兩個面向來分析\n",
    "1. 佈陣\n",
    "   - 即使看得到的佈陣不多，但仍不失為一個資訊\n",
    "2. 打席結果\n",
    "   - 如果落點在 7, 5, 6 超過一定比例"
   ]
  },
  {
   "cell_type": "code",
   "execution_count": 146,
   "metadata": {},
   "outputs": [
    {
     "data": {
      "text/plain": [
       "array(['FALSE', '4_2B'], dtype=object)"
      ]
     },
     "execution_count": 146,
     "metadata": {},
     "output_type": "execute_result"
    }
   ],
   "source": [
    "# 看佈陣的種類\n",
    "pitches_df_cleaned['has_visible_shift'].unique()"
   ]
  },
  {
   "cell_type": "code",
   "execution_count": 147,
   "metadata": {},
   "outputs": [
    {
     "data": {
      "text/plain": [
       "3"
      ]
     },
     "execution_count": 147,
     "metadata": {},
     "output_type": "execute_result"
    }
   ],
   "source": [
    "# 看二壘手往 2B 移動的情形比例\n",
    "non_false_shifts = pitches_df_cleaned[pitches_df_cleaned['has_visible_shift'] != 'FALSE'].shape[0]\n",
    "\n",
    "non_false_shifts"
   ]
  },
  {
   "cell_type": "code",
   "execution_count": 151,
   "metadata": {},
   "outputs": [
    {
     "name": "stdout",
     "output_type": "stream",
     "text": [
      "打向左半邊的比例: 67.86%\n"
     ]
    }
   ],
   "source": [
    "# 打席結果\n",
    "abs_df['is_numeric_start'] = abs_df['at_bat_result'].apply(lambda x: x[0].isdigit())\n",
    "\n",
    "\n",
    "abs_df['is_756_start'] = abs_df['at_bat_result'].apply(lambda x: x.startswith(('7', '5', '6')) if x[0].isdigit() else False)\n",
    "\n",
    "extreme_pull_count = abs_df['is_756_start'].sum()\n",
    "numeric_start_count = abs_df['is_numeric_start'].sum()\n",
    "\n",
    "extreme_pull_ratio = extreme_pull_count / numeric_start_count if numeric_start_count > 0 else 0\n",
    "\n",
    "print(f\"打向左半邊的比例: {extreme_pull_ratio:.2%}\")\n",
    "\n"
   ]
  },
  {
   "cell_type": "markdown",
   "metadata": {},
   "source": [
    "# 結論：是極度拉打\n",
    "1. 有看到佈陣的情況，都是二壘手往二壘方向移動\n",
    "2. 高達 68% 的球是打向左半邊的\n",
    "3. 影片的觀察過程，界外球也都多往左半邊打"
   ]
  },
  {
   "cell_type": "markdown",
   "metadata": {},
   "source": [
    "### 觀察：右投手外角 breaking ball 打不好？\n",
    "breaking ball：滑球，曲球"
   ]
  },
  {
   "cell_type": "code",
   "execution_count": 154,
   "metadata": {},
   "outputs": [
    {
     "name": "stdout",
     "output_type": "stream",
     "text": [
      "['outside' 'middle' 'inside']\n",
      "['low' 'high' 'middle']\n",
      "['slider' 'four_seam' 'sinker' 'curve' 'changeup' 'cutter']\n"
     ]
    }
   ],
   "source": [
    "print(pitches_df_cleaned['horizontal_ending'].unique())\n",
    "print(pitches_df_cleaned['vertical_ending'].unique())\n",
    "print(pitches_df_cleaned['pitch_type'].unique())"
   ]
  },
  {
   "cell_type": "code",
   "execution_count": 159,
   "metadata": {},
   "outputs": [
    {
     "name": "stdout",
     "output_type": "stream",
     "text": [
      "右投手外角 breaking ball 出棒意圖比例: 0.62\n",
      "右投手外角 breaking ball 出棒比例: 0.50\n",
      "右投手外角 breaking ball 揮空比例: 0.62\n"
     ]
    }
   ],
   "source": [
    "# 右投手外角 breaking ball 集合\n",
    "rhp_out_side_low_breaking_balls = pitches_df_cleaned[\n",
    "    (pitches_df_cleaned['is_rhp'] == True) &\n",
    "    (pitches_df_cleaned['horizontal_ending'] == 'outside') &\n",
    "    (pitches_df_cleaned['vertical_ending'] == 'low') &\n",
    "    (pitches_df_cleaned['pitch_type'].isin(['slider', 'curve', 'changeup']))\n",
    "]\n",
    "\n",
    "rhp_swing_intention_rate = rhp_out_side_low_breaking_balls['has_swing_intention'].mean(\n",
    ")\n",
    "\n",
    "rhp_out_side_low_swings_df = rhp_out_side_low_breaking_balls[\n",
    "    rhp_out_side_low_breaking_balls['has_swing'] == True]\n",
    "\n",
    "rhp_out_side_low_has_swing_rate = rhp_out_side_low_breaking_balls['has_swing'].mean()\n",
    "rhp_out_side_low_whiff_rate = rhp_out_side_low_swings_df['is_whiff'].mean()\n",
    "\n",
    "print(f\"右投手外角 breaking ball 出棒意圖比例: {rhp_swing_intention_rate:.2f}\")\n",
    "print(f\"右投手外角 breaking ball 出棒比例: {rhp_out_side_low_has_swing_rate:.2f}\")\n",
    "print(f\"右投手外角 breaking ball 揮空比例: {rhp_out_side_low_whiff_rate:.2f}\")\n"
   ]
  },
  {
   "cell_type": "code",
   "execution_count": 160,
   "metadata": {},
   "outputs": [
    {
     "name": "stdout",
     "output_type": "stream",
     "text": [
      "overall whiff rate: 0.33\n"
     ]
    }
   ],
   "source": [
    "print(f\"overall whiff rate: {overall_whiff_rate:.2f}\")"
   ]
  },
  {
   "cell_type": "code",
   "execution_count": 165,
   "metadata": {},
   "outputs": [
    {
     "name": "stdout",
     "output_type": "stream",
     "text": [
      "捕手期望的進壘點時的出棒意圖比例: 0.80\n",
      "捕手期望的進壘點時的出棒比例: 0.80\n",
      "捕手期望的進壘點時的揮空比例: 0.62\n"
     ]
    }
   ],
   "source": [
    "# 若為捕手 call 外角 breaking_ball 且投手投到位\n",
    "rhp_out_side_low_breaking_balls_catcher_called = rhp_out_side_low_breaking_balls[\n",
    "    rhp_out_side_low_breaking_balls['is_pitch_ended_catcher_want'] == True]\n",
    "\n",
    "rhp_out_side_low_breaking_balls_catcher_called_swing_intention_rate = rhp_out_side_low_breaking_balls_catcher_called['has_swing_intention'].mean(\n",
    ")\n",
    "\n",
    "rhp_out_side_low_breaking_balls_catcher_called__swing_rate = rhp_out_side_low_breaking_balls_catcher_called['has_swing'].mean(\n",
    ")\n",
    "\n",
    "rhp_out_side_low_breaking_balls_catcher_called_swings_df = rhp_out_side_low_breaking_balls_catcher_called[\n",
    "    rhp_out_side_low_breaking_balls_catcher_called['has_swing'] == True]\n",
    "rhp_catcher_want_whiff_rate = rhp_out_side_low_breaking_balls_catcher_called_swings_df['is_whiff'].mean(\n",
    ")\n",
    "\n",
    "print(\n",
    "    f\"捕手期望的進壘點時的出棒意圖比例: {rhp_out_side_low_breaking_balls_catcher_called_swing_intention_rate:.2f}\")\n",
    "print(\n",
    "    f\"捕手期望的進壘點時的出棒比例: {rhp_out_side_low_breaking_balls_catcher_called__swing_rate:.2f}\")\n",
    "print(f\"捕手期望的進壘點時的揮空比例: {rhp_catcher_want_whiff_rate:.2f}\")\n"
   ]
  },
  {
   "cell_type": "code",
   "execution_count": null,
   "metadata": {},
   "outputs": [],
   "source": [
    "# TODO: 造成好球的分析\n",
    "# 時間不足，待有機會分析\n",
    "# pitches_df_sorted = pitches_df_cleaned.sort_values(by=['abs_id', 'nth_pitch_ab'])\n",
    "\n",
    "# pitches_df_sorted['is_rhp_out_side_low_breaking_ball'] = (\n",
    "#     (pitches_df_sorted['is_rhp'] == True) &\n",
    "#     (pitches_df_sorted['horizontal_ending'] == 'outside') &\n",
    "#     (pitches_df_sorted['vertical_ending'] == 'low') &\n",
    "#     (pitches_df_sorted['pitch_type'].isin(['slider', 'curve', 'changeup']))\n",
    "# )\n",
    "# pitches_df_sorted['next_strike_count'] = pitches_df_sorted.groupby('abs_id')['strike_count'].shift(-1)\n",
    "# pitches_df_sorted['is_strike_count_increased'] = pitches_df_sorted['next_strike_count'] > pitches_df_sorted['strike_count']\n"
   ]
  },
  {
   "cell_type": "markdown",
   "metadata": {},
   "source": [
    "### 結論：\n",
    "1. 右投手外角 breaking ball 製造揮空的情形較其他情形，多出 100%\n",
    "2. 若捕手配球並且投手投到期望的外角低的位置，出棒的比例會從 50% 上升至 80%，將近 6 成"
   ]
  },
  {
   "cell_type": "markdown",
   "metadata": {},
   "source": [
    "### 觀察：外角低速球容易拉成滾地球？\n",
    "待驗證"
   ]
  },
  {
   "cell_type": "markdown",
   "metadata": {},
   "source": [
    "### 觀察：時機大致上正確，但是擊球點不好？\n",
    "待驗證"
   ]
  },
  {
   "cell_type": "code",
   "execution_count": null,
   "metadata": {},
   "outputs": [],
   "source": []
  }
 ],
 "metadata": {
  "kernelspec": {
   "display_name": "data-science",
   "language": "python",
   "name": "python3"
  },
  "language_info": {
   "codemirror_mode": {
    "name": "ipython",
    "version": 3
   },
   "file_extension": ".py",
   "mimetype": "text/x-python",
   "name": "python",
   "nbconvert_exporter": "python",
   "pygments_lexer": "ipython3",
   "version": "3.8.16"
  }
 },
 "nbformat": 4,
 "nbformat_minor": 2
}
