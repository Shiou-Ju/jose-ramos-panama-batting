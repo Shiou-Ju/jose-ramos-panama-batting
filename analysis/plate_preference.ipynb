{
 "cells": [
  {
   "cell_type": "code",
   "execution_count": 69,
   "metadata": {},
   "outputs": [
    {
     "name": "stdout",
     "output_type": "stream",
     "text": [
      "DataFrame Shape: (93, 27)\n"
     ]
    }
   ],
   "source": [
    "import pandas as pd\n",
    "import sys\n",
    "import os\n",
    "\n",
    "notebook_dir = os.path.abspath('')\n",
    "\n",
    "scripts_dir = os.path.join(os.path.dirname(notebook_dir), 'scripts')\n",
    "sys.path.append(scripts_dir)\n",
    "\n",
    "# 引入先前寫過判斷打席結果與方向的函式\n",
    "from categorize_at_bat_result import categorize_at_bat_result\n",
    "# 引入 25 宮格的轉換函式\n",
    "from map_to_25_grid import map_to_25_grid\n",
    "\n",
    "\n",
    "# 引入已清理過的逐球記錄\n",
    "cleaned_labled_file_path = '../labeled/jose_ramos_pitches_df_cleaned.csv'\n",
    "\n",
    "pitches_df = pd.read_csv(cleaned_labled_file_path)\n",
    "\n",
    "print(\"DataFrame Shape:\", pitches_df.shape)\n"
   ]
  },
  {
   "cell_type": "code",
   "execution_count": 70,
   "metadata": {},
   "outputs": [
    {
     "data": {
      "text/html": [
       "<div>\n",
       "<style scoped>\n",
       "    .dataframe tbody tr th:only-of-type {\n",
       "        vertical-align: middle;\n",
       "    }\n",
       "\n",
       "    .dataframe tbody tr th {\n",
       "        vertical-align: top;\n",
       "    }\n",
       "\n",
       "    .dataframe thead th {\n",
       "        text-align: right;\n",
       "    }\n",
       "</style>\n",
       "<table border=\"1\" class=\"dataframe\">\n",
       "  <thead>\n",
       "    <tr style=\"text-align: right;\">\n",
       "      <th></th>\n",
       "      <th>abs_id</th>\n",
       "      <th>file_name</th>\n",
       "      <th>file_name_date</th>\n",
       "      <th>file_name_player_name</th>\n",
       "      <th>file_name_pitcher_type</th>\n",
       "      <th>file_name_at_bat_number</th>\n",
       "      <th>file_name_result</th>\n",
       "      <th>is_filename_result_consistent</th>\n",
       "      <th>inning</th>\n",
       "      <th>at_bat_result</th>\n",
       "      <th>weather</th>\n",
       "      <th>game_time</th>\n",
       "    </tr>\n",
       "  </thead>\n",
       "  <tbody>\n",
       "    <tr>\n",
       "      <th>0</th>\n",
       "      <td>1</td>\n",
       "      <td>2022-09-10 Jose Ramos VS 右投 打席2_二飛.mp4</td>\n",
       "      <td>2022-09-10</td>\n",
       "      <td>Jose Ramos</td>\n",
       "      <td>RHP</td>\n",
       "      <td>2</td>\n",
       "      <td>二飛</td>\n",
       "      <td>True</td>\n",
       "      <td>4</td>\n",
       "      <td>4F</td>\n",
       "      <td>sunny</td>\n",
       "      <td>day</td>\n",
       "    </tr>\n",
       "  </tbody>\n",
       "</table>\n",
       "</div>"
      ],
      "text/plain": [
       "   abs_id                               file_name file_name_date  \\\n",
       "0       1  2022-09-10 Jose Ramos VS 右投 打席2_二飛.mp4     2022-09-10   \n",
       "\n",
       "  file_name_player_name file_name_pitcher_type  file_name_at_bat_number  \\\n",
       "0            Jose Ramos                    RHP                        2   \n",
       "\n",
       "  file_name_result  is_filename_result_consistent  inning at_bat_result  \\\n",
       "0               二飛                           True       4            4F   \n",
       "\n",
       "  weather game_time  \n",
       "0   sunny       day  "
      ]
     },
     "execution_count": 70,
     "metadata": {},
     "output_type": "execute_result"
    }
   ],
   "source": [
    "# 引入打席記錄\n",
    "abs_path = \"../labeled/50_abs_jose_ramos_20240308.csv\"\n",
    "abs_df = pd.read_csv(abs_path)\n",
    "abs_df.head(1)\n"
   ]
  },
  {
   "cell_type": "code",
   "execution_count": 71,
   "metadata": {},
   "outputs": [
    {
     "data": {
      "text/plain": [
       "Index(['id', 'abs_id', 'nth_pitch_ab', 'out_count', 'strike_count',\n",
       "       'ball_count', 'is_rhp', 'has_stealing_attempt', 'pitch_type',\n",
       "       'pitch_release', 'is_obvious_off_zone', 'is_pitch_ended_catcher_want',\n",
       "       'has_swing', 'has_first_base_runner', 'has_second_base_runner',\n",
       "       'has_third_base_runner', 'has_visible_shift', 'score_diffrence',\n",
       "       'is_team_leading', 'has_swing_intention', 'horizontal_ending',\n",
       "       'vertical_ending', 'is_swing_delayed', 'is_swing_early', 'is_whiff',\n",
       "       'any_on_base', 'base_combination'],\n",
       "      dtype='object')"
      ]
     },
     "execution_count": 71,
     "metadata": {},
     "output_type": "execute_result"
    }
   ],
   "source": [
    "# 多了  'any_on_base', 'base_combination' \n",
    "pitches_df.columns\n"
   ]
  },
  {
   "cell_type": "code",
   "execution_count": 72,
   "metadata": {},
   "outputs": [
    {
     "data": {
      "text/html": [
       "<div>\n",
       "<style scoped>\n",
       "    .dataframe tbody tr th:only-of-type {\n",
       "        vertical-align: middle;\n",
       "    }\n",
       "\n",
       "    .dataframe tbody tr th {\n",
       "        vertical-align: top;\n",
       "    }\n",
       "\n",
       "    .dataframe thead th {\n",
       "        text-align: right;\n",
       "    }\n",
       "</style>\n",
       "<table border=\"1\" class=\"dataframe\">\n",
       "  <thead>\n",
       "    <tr style=\"text-align: right;\">\n",
       "      <th></th>\n",
       "      <th>id</th>\n",
       "      <th>abs_id</th>\n",
       "      <th>nth_pitch_ab</th>\n",
       "      <th>out_count</th>\n",
       "      <th>strike_count</th>\n",
       "      <th>ball_count</th>\n",
       "      <th>is_rhp</th>\n",
       "      <th>has_stealing_attempt</th>\n",
       "      <th>pitch_type</th>\n",
       "      <th>pitch_release</th>\n",
       "      <th>...</th>\n",
       "      <th>score_diffrence</th>\n",
       "      <th>is_team_leading</th>\n",
       "      <th>has_swing_intention</th>\n",
       "      <th>horizontal_ending</th>\n",
       "      <th>vertical_ending</th>\n",
       "      <th>is_swing_delayed</th>\n",
       "      <th>is_swing_early</th>\n",
       "      <th>is_whiff</th>\n",
       "      <th>any_on_base</th>\n",
       "      <th>base_combination</th>\n",
       "    </tr>\n",
       "  </thead>\n",
       "  <tbody>\n",
       "    <tr>\n",
       "      <th>0</th>\n",
       "      <td>4e1e4436-2ba9-41a0-b88a-5cc4641edcbe</td>\n",
       "      <td>1</td>\n",
       "      <td>1</td>\n",
       "      <td>0</td>\n",
       "      <td>0</td>\n",
       "      <td>0</td>\n",
       "      <td>True</td>\n",
       "      <td>False</td>\n",
       "      <td>slider</td>\n",
       "      <td>overhand</td>\n",
       "      <td>...</td>\n",
       "      <td>1</td>\n",
       "      <td>True</td>\n",
       "      <td>False</td>\n",
       "      <td>outside</td>\n",
       "      <td>low</td>\n",
       "      <td>False</td>\n",
       "      <td>False</td>\n",
       "      <td>False</td>\n",
       "      <td>False</td>\n",
       "      <td>0</td>\n",
       "    </tr>\n",
       "  </tbody>\n",
       "</table>\n",
       "<p>1 rows × 27 columns</p>\n",
       "</div>"
      ],
      "text/plain": [
       "                                     id  abs_id  nth_pitch_ab  out_count  \\\n",
       "0  4e1e4436-2ba9-41a0-b88a-5cc4641edcbe       1             1          0   \n",
       "\n",
       "   strike_count  ball_count  is_rhp  has_stealing_attempt pitch_type  \\\n",
       "0             0           0    True                 False     slider   \n",
       "\n",
       "  pitch_release  ...  score_diffrence  is_team_leading  has_swing_intention  \\\n",
       "0      overhand  ...                1             True                False   \n",
       "\n",
       "   horizontal_ending  vertical_ending  is_swing_delayed is_swing_early  \\\n",
       "0            outside              low             False          False   \n",
       "\n",
       "   is_whiff  any_on_base  base_combination  \n",
       "0     False        False                 0  \n",
       "\n",
       "[1 rows x 27 columns]"
      ]
     },
     "execution_count": 72,
     "metadata": {},
     "output_type": "execute_result"
    }
   ],
   "source": [
    "pitches_df.head(1)\n"
   ]
  },
  {
   "cell_type": "markdown",
   "metadata": {},
   "source": [
    "## 什麼樣的球會打成安打？"
   ]
  },
  {
   "cell_type": "code",
   "execution_count": 73,
   "metadata": {},
   "outputs": [
    {
     "name": "stdout",
     "output_type": "stream",
     "text": [
      "at_bat_result_group\n",
      "三振     34.0\n",
      "安打     20.0\n",
      "飛球     18.0\n",
      "滾地球    18.0\n",
      "保送     10.0\n",
      "Name: proportion, dtype: float64\n"
     ]
    }
   ],
   "source": [
    "# 計算打席結果比例\n",
    "abs_df['at_bat_result_group'] = abs_df['at_bat_result'].apply(categorize_at_bat_result)\n",
    "\n",
    "group_counts = abs_df['at_bat_result_group'].value_counts(normalize=True) * 100\n",
    "\n",
    "print(group_counts)\n"
   ]
  },
  {
   "cell_type": "code",
   "execution_count": 74,
   "metadata": {},
   "outputs": [
    {
     "data": {
      "text/plain": [
       "ending_combination\n",
       "outside_low       8\n",
       "middle_high       7\n",
       "outside_middle    3\n",
       "middle_middle     2\n",
       "outside_high      2\n",
       "inside_middle     2\n",
       "inside_high       1\n",
       "middle_low        1\n",
       "Name: count, dtype: int64"
      ]
     },
     "execution_count": 74,
     "metadata": {},
     "output_type": "execute_result"
    }
   ],
   "source": [
    "# 只有標記一半的打席\n",
    "# 所有打席最後一球\n",
    "\n",
    "last_pitches = pitches_df.loc[pitches_df.groupby('abs_id')['nth_pitch_ab'].idxmax()]\n",
    "\n",
    "\n",
    "last_pitches['ending_combination'] = last_pitches['horizontal_ending'] + '_' + last_pitches['vertical_ending']\n",
    "\n",
    "total_ending_combinations = last_pitches['ending_combination'].value_counts()\n",
    "\n",
    "total_ending_combinations\n"
   ]
  },
  {
   "cell_type": "code",
   "execution_count": 75,
   "metadata": {},
   "outputs": [
    {
     "data": {
      "text/html": [
       "<div>\n",
       "<style scoped>\n",
       "    .dataframe tbody tr th:only-of-type {\n",
       "        vertical-align: middle;\n",
       "    }\n",
       "\n",
       "    .dataframe tbody tr th {\n",
       "        vertical-align: top;\n",
       "    }\n",
       "\n",
       "    .dataframe thead th {\n",
       "        text-align: right;\n",
       "    }\n",
       "</style>\n",
       "<table border=\"1\" class=\"dataframe\">\n",
       "  <thead>\n",
       "    <tr style=\"text-align: right;\">\n",
       "      <th></th>\n",
       "      <th>id</th>\n",
       "      <th>abs_id</th>\n",
       "      <th>nth_pitch_ab</th>\n",
       "      <th>out_count</th>\n",
       "      <th>strike_count</th>\n",
       "      <th>ball_count</th>\n",
       "      <th>is_rhp</th>\n",
       "      <th>has_stealing_attempt</th>\n",
       "      <th>pitch_type</th>\n",
       "      <th>pitch_release</th>\n",
       "      <th>...</th>\n",
       "      <th>score_diffrence</th>\n",
       "      <th>is_team_leading</th>\n",
       "      <th>has_swing_intention</th>\n",
       "      <th>horizontal_ending</th>\n",
       "      <th>vertical_ending</th>\n",
       "      <th>is_swing_delayed</th>\n",
       "      <th>is_swing_early</th>\n",
       "      <th>is_whiff</th>\n",
       "      <th>any_on_base</th>\n",
       "      <th>base_combination</th>\n",
       "    </tr>\n",
       "  </thead>\n",
       "  <tbody>\n",
       "    <tr>\n",
       "      <th>11</th>\n",
       "      <td>6fbaf895-e887-4592-ab42-d0b8315c538a</td>\n",
       "      <td>4</td>\n",
       "      <td>4</td>\n",
       "      <td>1</td>\n",
       "      <td>2</td>\n",
       "      <td>1</td>\n",
       "      <td>False</td>\n",
       "      <td>False</td>\n",
       "      <td>slider</td>\n",
       "      <td>overhand</td>\n",
       "      <td>...</td>\n",
       "      <td>1</td>\n",
       "      <td>True</td>\n",
       "      <td>True</td>\n",
       "      <td>outside</td>\n",
       "      <td>low</td>\n",
       "      <td>False</td>\n",
       "      <td>False</td>\n",
       "      <td>False</td>\n",
       "      <td>True</td>\n",
       "      <td>110</td>\n",
       "    </tr>\n",
       "  </tbody>\n",
       "</table>\n",
       "<p>1 rows × 27 columns</p>\n",
       "</div>"
      ],
      "text/plain": [
       "                                      id  abs_id  nth_pitch_ab  out_count  \\\n",
       "11  6fbaf895-e887-4592-ab42-d0b8315c538a       4             4          1   \n",
       "\n",
       "    strike_count  ball_count  is_rhp  has_stealing_attempt pitch_type  \\\n",
       "11             2           1   False                 False     slider   \n",
       "\n",
       "   pitch_release  ...  score_diffrence  is_team_leading  has_swing_intention  \\\n",
       "11      overhand  ...                1             True                 True   \n",
       "\n",
       "    horizontal_ending  vertical_ending  is_swing_delayed is_swing_early  \\\n",
       "11            outside              low             False          False   \n",
       "\n",
       "    is_whiff  any_on_base  base_combination  \n",
       "11     False         True               110  \n",
       "\n",
       "[1 rows x 27 columns]"
      ]
     },
     "execution_count": 75,
     "metadata": {},
     "output_type": "execute_result"
    }
   ],
   "source": [
    "\n",
    "# 每個安打打席的最後一球\n",
    "hits_abs_ids = abs_df[abs_df['at_bat_result_group'] == '安打']['abs_id']\n",
    "\n",
    "hits_pitches = pitches_df[pitches_df['abs_id'].isin(hits_abs_ids)]\n",
    "\n",
    "last_pitches_of_hits = hits_pitches.loc[hits_pitches.groupby('abs_id')[\n",
    "    'nth_pitch_ab'].idxmax()]\n",
    "\n",
    "last_pitches_of_hits.head(1)"
   ]
  },
  {
   "cell_type": "code",
   "execution_count": 76,
   "metadata": {},
   "outputs": [
    {
     "data": {
      "text/plain": [
       "0"
      ]
     },
     "execution_count": 76,
     "metadata": {},
     "output_type": "execute_result"
    }
   ],
   "source": [
    "# 看有無 off zone 的安打\n",
    "last_pitches_of_hits[last_pitches_of_hits['is_obvious_off_zone'] == True].shape[0]\n"
   ]
  },
  {
   "cell_type": "code",
   "execution_count": 77,
   "metadata": {},
   "outputs": [
    {
     "data": {
      "text/plain": [
       "pitch_type\n",
       "slider       66.666667\n",
       "curve        16.666667\n",
       "four_seam    16.666667\n",
       "Name: proportion, dtype: float64"
      ]
     },
     "execution_count": 77,
     "metadata": {},
     "output_type": "execute_result"
    }
   ],
   "source": [
    "# 根據球種\n",
    "hit_pitch_type_proportions = last_pitches_of_hits['pitch_type'].value_counts(normalize=True) * 100\n",
    "\n",
    "hit_pitch_type_proportions"
   ]
  },
  {
   "cell_type": "code",
   "execution_count": 78,
   "metadata": {},
   "outputs": [
    {
     "name": "stdout",
     "output_type": "stream",
     "text": [
      "ending_combination\n",
      "outside_low       33.333333\n",
      "middle_middle     16.666667\n",
      "middle_high       16.666667\n",
      "middle_low        16.666667\n",
      "outside_middle    16.666667\n",
      "Name: proportion, dtype: float64\n"
     ]
    }
   ],
   "source": [
    "# 合併 horizontal_ending 和 vertical_ending 成為一個新的組合欄位\n",
    "last_pitches_of_hits['ending_combination'] = last_pitches_of_hits['horizontal_ending'] + '_' + last_pitches_of_hits['vertical_ending']\n",
    "\n",
    "# 計算每種組合的佔比\n",
    "off_zone_proportion = last_pitches_of_hits['ending_combination'].value_counts(normalize=True) * 100\n",
    "\n",
    "print(off_zone_proportion)\n"
   ]
  },
  {
   "cell_type": "code",
   "execution_count": 79,
   "metadata": {},
   "outputs": [
    {
     "name": "stdout",
     "output_type": "stream",
     "text": [
      "ending_combination\n",
      "outside_low       2\n",
      "middle_middle     1\n",
      "middle_high       1\n",
      "middle_low        1\n",
      "outside_middle    1\n",
      "Name: count, dtype: int64\n"
     ]
    },
    {
     "data": {
      "text/plain": [
       "ending_combination\n",
       "inside_high            NaN\n",
       "inside_middle          NaN\n",
       "middle_high       0.142857\n",
       "middle_low        1.000000\n",
       "middle_middle     0.500000\n",
       "outside_high           NaN\n",
       "outside_low       0.250000\n",
       "outside_middle    0.333333\n",
       "Name: count, dtype: float64"
      ]
     },
     "execution_count": 79,
     "metadata": {},
     "output_type": "execute_result"
    }
   ],
   "source": [
    "# 計算安打率\n",
    "\n",
    "hits_last_pitches = last_pitches[last_pitches['abs_id'].isin(hits_abs_ids)]\n",
    "hits_ending_combinations = hits_last_pitches['ending_combination'].value_counts()\n",
    "\n",
    "print(hits_ending_combinations)\n",
    "\n",
    "\n",
    "hit_rates = (hits_ending_combinations / total_ending_combinations)\n",
    "hit_rates\n"
   ]
  },
  {
   "cell_type": "code",
   "execution_count": 80,
   "metadata": {},
   "outputs": [
    {
     "data": {
      "text/html": [
       "<div>\n",
       "<style scoped>\n",
       "    .dataframe tbody tr th:only-of-type {\n",
       "        vertical-align: middle;\n",
       "    }\n",
       "\n",
       "    .dataframe tbody tr th {\n",
       "        vertical-align: top;\n",
       "    }\n",
       "\n",
       "    .dataframe thead th {\n",
       "        text-align: right;\n",
       "    }\n",
       "</style>\n",
       "<table border=\"1\" class=\"dataframe\">\n",
       "  <thead>\n",
       "    <tr style=\"text-align: right;\">\n",
       "      <th></th>\n",
       "      <th>horizontal_ending</th>\n",
       "      <th>vertical_ending</th>\n",
       "      <th>ending_combination</th>\n",
       "      <th>hit_rate</th>\n",
       "    </tr>\n",
       "  </thead>\n",
       "  <tbody>\n",
       "    <tr>\n",
       "      <th>0</th>\n",
       "      <td>inside</td>\n",
       "      <td>high</td>\n",
       "      <td>inside_high</td>\n",
       "      <td>NaN</td>\n",
       "    </tr>\n",
       "    <tr>\n",
       "      <th>1</th>\n",
       "      <td>inside</td>\n",
       "      <td>middle</td>\n",
       "      <td>inside_middle</td>\n",
       "      <td>NaN</td>\n",
       "    </tr>\n",
       "    <tr>\n",
       "      <th>2</th>\n",
       "      <td>inside</td>\n",
       "      <td>low</td>\n",
       "      <td>inside_low</td>\n",
       "      <td>NaN</td>\n",
       "    </tr>\n",
       "    <tr>\n",
       "      <th>3</th>\n",
       "      <td>middle</td>\n",
       "      <td>high</td>\n",
       "      <td>middle_high</td>\n",
       "      <td>0.142857</td>\n",
       "    </tr>\n",
       "    <tr>\n",
       "      <th>4</th>\n",
       "      <td>middle</td>\n",
       "      <td>middle</td>\n",
       "      <td>middle_middle</td>\n",
       "      <td>0.500000</td>\n",
       "    </tr>\n",
       "    <tr>\n",
       "      <th>5</th>\n",
       "      <td>middle</td>\n",
       "      <td>low</td>\n",
       "      <td>middle_low</td>\n",
       "      <td>1.000000</td>\n",
       "    </tr>\n",
       "    <tr>\n",
       "      <th>6</th>\n",
       "      <td>outside</td>\n",
       "      <td>high</td>\n",
       "      <td>outside_high</td>\n",
       "      <td>NaN</td>\n",
       "    </tr>\n",
       "    <tr>\n",
       "      <th>7</th>\n",
       "      <td>outside</td>\n",
       "      <td>middle</td>\n",
       "      <td>outside_middle</td>\n",
       "      <td>0.333333</td>\n",
       "    </tr>\n",
       "    <tr>\n",
       "      <th>8</th>\n",
       "      <td>outside</td>\n",
       "      <td>low</td>\n",
       "      <td>outside_low</td>\n",
       "      <td>0.250000</td>\n",
       "    </tr>\n",
       "  </tbody>\n",
       "</table>\n",
       "</div>"
      ],
      "text/plain": [
       "  horizontal_ending vertical_ending ending_combination  hit_rate\n",
       "0            inside            high        inside_high       NaN\n",
       "1            inside          middle      inside_middle       NaN\n",
       "2            inside             low         inside_low       NaN\n",
       "3            middle            high        middle_high  0.142857\n",
       "4            middle          middle      middle_middle  0.500000\n",
       "5            middle             low         middle_low  1.000000\n",
       "6           outside            high       outside_high       NaN\n",
       "7           outside          middle     outside_middle  0.333333\n",
       "8           outside             low        outside_low  0.250000"
      ]
     },
     "execution_count": 80,
     "metadata": {},
     "output_type": "execute_result"
    }
   ],
   "source": [
    "# 各進壘點安打率\n",
    "import itertools\n",
    "hit_rates_df = hit_rates.reset_index()\n",
    "hit_rates_df.columns = ['ending_combination', 'hit_rate']\n",
    "\n",
    "hit_rates_df[['horizontal_ending', 'vertical_ending']] = hit_rates_df['ending_combination'].str.split('_', expand=True)\n",
    "\n",
    "# ensure all 9 spots are included\n",
    "expected_combinations = pd.DataFrame(list(itertools.product(['inside', 'middle', 'outside'], ['high', 'middle', 'low'])),\n",
    "                                     columns=['horizontal_ending', 'vertical_ending'])\n",
    "expected_combinations['ending_combination'] = expected_combinations['horizontal_ending'] + '_' + expected_combinations['vertical_ending']\n",
    "\n",
    "# merge\n",
    "full_hit_rates_df = pd.merge(expected_combinations, hit_rates_df[['ending_combination', 'hit_rate']], on='ending_combination', how='left')\n",
    "\n",
    "\n",
    "full_hit_rates_df"
   ]
  },
  {
   "cell_type": "code",
   "execution_count": 81,
   "metadata": {},
   "outputs": [
    {
     "data": {
      "image/png": "[encoded data removed]",
      "text/plain": [
       "<Figure size 1000x800 with 2 Axes>"
      ]
     },
     "metadata": {},
     "output_type": "display_data"
    }
   ],
   "source": [
    "import seaborn as sns\n",
    "import matplotlib.pyplot as plt\n",
    "\n",
    "# other method here\n",
    "# last_pitches_of_hits_data = {\n",
    "#     'horizontal_ending': ['inside', 'outside', 'middle', 'inside', 'outside', 'middle', 'outside', 'middle', 'inside'],\n",
    "#     'vertical_ending': ['high', 'high', 'high',  'middle', 'middle', 'middle', 'low', 'low', 'low'],\n",
    "\n",
    "#     'hit_rate': hit_rates_df,\n",
    "# }\n",
    "\n",
    "# last_pitches_of_hits = pd.DataFrame(last_pitches_of_hits_data)\n",
    "\n",
    "# pivot_table = last_pitches_of_hits.pivot(index='vertical_ending',\n",
    "#                                          columns='horizontal_ending', values='hit_rate')\n",
    "\n",
    "pivot_table = hit_rates_df.pivot(index='vertical_ending', columns='horizontal_ending', values='hit_rate').reindex(\n",
    "    columns=['inside', 'middle', 'outside'], index=['high', 'middle', 'low'])\n",
    "\n",
    "\n",
    "expected_vertical_order = ['high', 'middle', 'low']\n",
    "expected_horizontal_order = ['outside', 'middle', 'inside']\n",
    "\n",
    "\n",
    "pivot_table_reordered = pivot_table.reindex(index=expected_vertical_order,\n",
    "                                            columns=expected_horizontal_order)\n",
    "\n",
    "\n",
    "# cmap = sns.diverging_palette(240, 10, n=9, center=\"light\", as_cmap=True)\n",
    "\n",
    "plt.figure(figsize=(10, 8))\n",
    "# sns.heatmap(pivot_table_reordered, annot=True,\n",
    "#             fmt=\".3f\", cmap=cmap, square=True)\n",
    "sns.heatmap(pivot_table_reordered, annot=True, fmt=\".3f\", cmap='coolwarm', square=True, center=0.3)\n",
    "\n",
    "plt.title(\"Hit Rate by Pitch Ending Zone\")\n",
    "plt.show()\n"
   ]
  },
  {
   "cell_type": "markdown",
   "metadata": {},
   "source": [
    "### 並且在 off zone 的所有區塊，都沒有形成安打\n",
    "可能是小樣本造成"
   ]
  },
  {
   "cell_type": "markdown",
   "metadata": {},
   "source": [
    "## 進壘點分析"
   ]
  },
  {
   "cell_type": "markdown",
   "metadata": {},
   "source": [
    "要把九宮格的 mapping 到 D-O 位置\n",
    "\n",
    "正四方的偏位獨立\n",
    "\n",
    "其他地方放到AAA類似的\n"
   ]
  },
  {
   "cell_type": "code",
   "execution_count": 82,
   "metadata": {},
   "outputs": [],
   "source": [
    "### 25 宮格\n",
    "# AABCC\n",
    "# ADEFC\n",
    "# GHIJK\n",
    "# LMNOP\n",
    "# LLQPP\n"
   ]
  },
  {
   "cell_type": "code",
   "execution_count": 83,
   "metadata": {},
   "outputs": [
    {
     "data": {
      "text/html": [
       "<div>\n",
       "<style scoped>\n",
       "    .dataframe tbody tr th:only-of-type {\n",
       "        vertical-align: middle;\n",
       "    }\n",
       "\n",
       "    .dataframe tbody tr th {\n",
       "        vertical-align: top;\n",
       "    }\n",
       "\n",
       "    .dataframe thead th {\n",
       "        text-align: right;\n",
       "    }\n",
       "</style>\n",
       "<table border=\"1\" class=\"dataframe\">\n",
       "  <thead>\n",
       "    <tr style=\"text-align: right;\">\n",
       "      <th></th>\n",
       "      <th>is_obvious_off_zone</th>\n",
       "      <th>horizontal_ending</th>\n",
       "      <th>vertical_ending</th>\n",
       "      <th>counts</th>\n",
       "    </tr>\n",
       "  </thead>\n",
       "  <tbody>\n",
       "    <tr>\n",
       "      <th>0</th>\n",
       "      <td>False</td>\n",
       "      <td>inside</td>\n",
       "      <td>high</td>\n",
       "      <td>5</td>\n",
       "    </tr>\n",
       "    <tr>\n",
       "      <th>1</th>\n",
       "      <td>False</td>\n",
       "      <td>inside</td>\n",
       "      <td>low</td>\n",
       "      <td>3</td>\n",
       "    </tr>\n",
       "    <tr>\n",
       "      <th>2</th>\n",
       "      <td>False</td>\n",
       "      <td>inside</td>\n",
       "      <td>middle</td>\n",
       "      <td>7</td>\n",
       "    </tr>\n",
       "    <tr>\n",
       "      <th>3</th>\n",
       "      <td>False</td>\n",
       "      <td>middle</td>\n",
       "      <td>high</td>\n",
       "      <td>7</td>\n",
       "    </tr>\n",
       "    <tr>\n",
       "      <th>4</th>\n",
       "      <td>False</td>\n",
       "      <td>middle</td>\n",
       "      <td>low</td>\n",
       "      <td>5</td>\n",
       "    </tr>\n",
       "    <tr>\n",
       "      <th>5</th>\n",
       "      <td>False</td>\n",
       "      <td>middle</td>\n",
       "      <td>middle</td>\n",
       "      <td>5</td>\n",
       "    </tr>\n",
       "    <tr>\n",
       "      <th>6</th>\n",
       "      <td>False</td>\n",
       "      <td>outside</td>\n",
       "      <td>high</td>\n",
       "      <td>6</td>\n",
       "    </tr>\n",
       "    <tr>\n",
       "      <th>7</th>\n",
       "      <td>False</td>\n",
       "      <td>outside</td>\n",
       "      <td>low</td>\n",
       "      <td>16</td>\n",
       "    </tr>\n",
       "    <tr>\n",
       "      <th>8</th>\n",
       "      <td>False</td>\n",
       "      <td>outside</td>\n",
       "      <td>middle</td>\n",
       "      <td>7</td>\n",
       "    </tr>\n",
       "    <tr>\n",
       "      <th>9</th>\n",
       "      <td>True</td>\n",
       "      <td>inside</td>\n",
       "      <td>high</td>\n",
       "      <td>5</td>\n",
       "    </tr>\n",
       "    <tr>\n",
       "      <th>10</th>\n",
       "      <td>True</td>\n",
       "      <td>inside</td>\n",
       "      <td>low</td>\n",
       "      <td>1</td>\n",
       "    </tr>\n",
       "    <tr>\n",
       "      <th>11</th>\n",
       "      <td>True</td>\n",
       "      <td>middle</td>\n",
       "      <td>high</td>\n",
       "      <td>6</td>\n",
       "    </tr>\n",
       "    <tr>\n",
       "      <th>12</th>\n",
       "      <td>True</td>\n",
       "      <td>middle</td>\n",
       "      <td>low</td>\n",
       "      <td>1</td>\n",
       "    </tr>\n",
       "    <tr>\n",
       "      <th>13</th>\n",
       "      <td>True</td>\n",
       "      <td>outside</td>\n",
       "      <td>high</td>\n",
       "      <td>6</td>\n",
       "    </tr>\n",
       "    <tr>\n",
       "      <th>14</th>\n",
       "      <td>True</td>\n",
       "      <td>outside</td>\n",
       "      <td>low</td>\n",
       "      <td>13</td>\n",
       "    </tr>\n",
       "  </tbody>\n",
       "</table>\n",
       "</div>"
      ],
      "text/plain": [
       "    is_obvious_off_zone horizontal_ending vertical_ending  counts\n",
       "0                 False            inside            high       5\n",
       "1                 False            inside             low       3\n",
       "2                 False            inside          middle       7\n",
       "3                 False            middle            high       7\n",
       "4                 False            middle             low       5\n",
       "5                 False            middle          middle       5\n",
       "6                 False           outside            high       6\n",
       "7                 False           outside             low      16\n",
       "8                 False           outside          middle       7\n",
       "9                  True            inside            high       5\n",
       "10                 True            inside             low       1\n",
       "11                 True            middle            high       6\n",
       "12                 True            middle             low       1\n",
       "13                 True           outside            high       6\n",
       "14                 True           outside             low      13"
      ]
     },
     "execution_count": 83,
     "metadata": {},
     "output_type": "execute_result"
    }
   ],
   "source": [
    "# 建立進壘點記數\n",
    "pitch_location_grouped_df = pitches_df.groupby(\n",
    "    ['is_obvious_off_zone', 'horizontal_ending', 'vertical_ending'])\n",
    "\n",
    "pitch_location_df = pitch_location_grouped_df.size().reset_index(name='counts')\n",
    "\n",
    "pitch_location_df\n"
   ]
  },
  {
   "cell_type": "code",
   "execution_count": 84,
   "metadata": {},
   "outputs": [
    {
     "data": {
      "text/html": [
       "<div>\n",
       "<style scoped>\n",
       "    .dataframe tbody tr th:only-of-type {\n",
       "        vertical-align: middle;\n",
       "    }\n",
       "\n",
       "    .dataframe tbody tr th {\n",
       "        vertical-align: top;\n",
       "    }\n",
       "\n",
       "    .dataframe thead th {\n",
       "        text-align: right;\n",
       "    }\n",
       "</style>\n",
       "<table border=\"1\" class=\"dataframe\">\n",
       "  <thead>\n",
       "    <tr style=\"text-align: right;\">\n",
       "      <th></th>\n",
       "      <th>is_obvious_off_zone</th>\n",
       "      <th>horizontal_ending</th>\n",
       "      <th>vertical_ending</th>\n",
       "      <th>25_grid</th>\n",
       "    </tr>\n",
       "  </thead>\n",
       "  <tbody>\n",
       "    <tr>\n",
       "      <th>0</th>\n",
       "      <td>False</td>\n",
       "      <td>outside</td>\n",
       "      <td>low</td>\n",
       "      <td>M</td>\n",
       "    </tr>\n",
       "    <tr>\n",
       "      <th>1</th>\n",
       "      <td>False</td>\n",
       "      <td>middle</td>\n",
       "      <td>high</td>\n",
       "      <td>E</td>\n",
       "    </tr>\n",
       "    <tr>\n",
       "      <th>2</th>\n",
       "      <td>False</td>\n",
       "      <td>outside</td>\n",
       "      <td>high</td>\n",
       "      <td>D</td>\n",
       "    </tr>\n",
       "  </tbody>\n",
       "</table>\n",
       "</div>"
      ],
      "text/plain": [
       "   is_obvious_off_zone horizontal_ending vertical_ending 25_grid\n",
       "0                False           outside             low       M\n",
       "1                False            middle            high       E\n",
       "2                False           outside            high       D"
      ]
     },
     "execution_count": 84,
     "metadata": {},
     "output_type": "execute_result"
    }
   ],
   "source": [
    "# 建立 25 宮格分組\n",
    "pitches_df['25_grid'] = pitches_df.apply(map_to_25_grid, axis=1)\n",
    "\n",
    "pitches_df[['is_obvious_off_zone', 'horizontal_ending', 'vertical_ending', '25_grid']].head(3)\n"
   ]
  },
  {
   "cell_type": "code",
   "execution_count": 85,
   "metadata": {},
   "outputs": [
    {
     "data": {
      "text/plain": [
       "0"
      ]
     },
     "execution_count": 85,
     "metadata": {},
     "output_type": "execute_result"
    }
   ],
   "source": [
    "# 看有沒有沒被歸類到的\n",
    "pitches_df[pitches_df['25_grid'] == 'unknown'].shape[0]"
   ]
  },
  {
   "cell_type": "code",
   "execution_count": 86,
   "metadata": {},
   "outputs": [
    {
     "data": {
      "text/plain": [
       "25_grid\n",
       "M    16\n",
       "L    13\n",
       "E     7\n",
       "J     7\n",
       "H     7\n",
       "D     6\n",
       "B     6\n",
       "A     6\n",
       "I     5\n",
       "C     5\n",
       "N     5\n",
       "F     5\n",
       "O     3\n",
       "Q     1\n",
       "P     1\n",
       "Name: count, dtype: int64"
      ]
     },
     "execution_count": 86,
     "metadata": {},
     "output_type": "execute_result"
    }
   ],
   "source": [
    "import matplotlib.pyplot as plt\n",
    "import seaborn as sns\n",
    "import numpy as np\n",
    "\n",
    "grid_counts = pitches_df['25_grid'].value_counts()\n",
    "grid_counts\n"
   ]
  },
  {
   "cell_type": "code",
   "execution_count": 88,
   "metadata": {},
   "outputs": [
    {
     "data": {
      "image/png": "[encoded data removed]",
      "text/plain": [
       "<Figure size 1000x800 with 2 Axes>"
      ]
     },
     "metadata": {},
     "output_type": "display_data"
    }
   ],
   "source": [
    "\n",
    "# 原先 mapping\n",
    "# grid_mapping = {\n",
    "#     'A': (0, 0), 'A': (0, 1), 'B': (0, 2), 'C': (0, 3), 'C': (0, 4),\n",
    "#     'A': (1, 0), 'D': (1, 1), 'E': (1, 2), 'F': (1, 3), 'C': (1, 4),\n",
    "#     'G': (2, 0), 'H': (2, 1), 'I': (2, 2), 'J': (2, 3), 'K': (2, 4),\n",
    "#     'L': (3, 0), 'M': (3, 1), 'N': (3, 2), 'O': (3, 3), 'P': (3, 4),\n",
    "#     'L': (4, 0), 'L': (4, 1), 'Q': (4, 2), 'P': (4, 3), 'P': (4, 4),\n",
    "# }\n",
    "\n",
    "\n",
    "# for grid, count in grid_counts.items():\n",
    "#     if grid in grid_mapping:\n",
    "#         x, y = grid_mapping[grid]\n",
    "#         heatmap_data[x, y] = count\n",
    "\n",
    "\n",
    "from matplotlib import patches\n",
    "from matplotlib.path import Path\n",
    "\n",
    "\n",
    "grid_mapping = {\n",
    "    'A': [(0, 0), (0, 1), (1, 0)],\n",
    "    'B': [(0, 2)],\n",
    "    'C': [(0, 3), (0, 4), (1, 4)],\n",
    "    'D': [(1, 1)],\n",
    "    'E': [(1, 2)],\n",
    "    'F': [(1, 3)],\n",
    "    'G': [(2, 0)],\n",
    "    'H': [(2, 1)],\n",
    "    'I': [(2, 2)],\n",
    "    'J': [(2, 3)],\n",
    "    'K': [(2, 4)],\n",
    "    'L': [(3, 0), (4, 0), (4, 1)],\n",
    "    'M': [(3, 1)],\n",
    "    'N': [(3, 2)],\n",
    "    'O': [(3, 3)],\n",
    "    'P': [(3, 4), (4, 3), (4, 4)],\n",
    "    'Q': [(4, 2)],\n",
    "}\n",
    "\n",
    "\n",
    "heatmap_data = np.zeros((5, 5))\n",
    "\n",
    "\n",
    "for letter, positions in grid_mapping.items():\n",
    "    count = grid_counts.get(letter, 0)\n",
    "    for x, y in positions:\n",
    "        heatmap_data[x, y] += count\n",
    "\n",
    "# 嘗試隱藏 其他例如 A 格子只留一格\n",
    "# annot_arr = np.array(heatmap_data, dtype=str)\n",
    "# annot_arr = np.array([[f\"{val:.2f}\" for val in row] for row in heatmap_data])\n",
    "\n",
    "\n",
    "# hide_annot_indices = [\n",
    "#     (0, 1), (1, 0),  # 对于 'A'\n",
    "#     (0, 4), (1, 4),  # 对于 'C'\n",
    "#     (4, 0), (4, 1),  # 对于 'L'\n",
    "#     (4, 3), (4, 4)   # 对于 'P'\n",
    "# ]\n",
    "\n",
    "# for x, y in hide_annot_indices:\n",
    "#     annot_arr[x, y] = ''\n",
    "# ax = sns.heatmap(heatmap_data, annot=annot_arr, cmap=\"coolwarm\", square=True)\n",
    "\n",
    "\n",
    "plt.figure(figsize=(10, 8))\n",
    "\n",
    "center_data = heatmap_data[1:4, 1:4]\n",
    "\n",
    "ax = sns.heatmap(heatmap_data, annot=True, fmt=\".0f\",\n",
    "                 cmap=\"coolwarm\", square=True)\n",
    "\n",
    "\n",
    "# 中間九宮格紅線\n",
    "ax.add_patch(patches.Rectangle(\n",
    "    (1, 1), 3, 3, fill=False, edgecolor='red', linewidth=2))\n",
    "\n",
    "\n",
    "# TODO: 外角分組\n",
    "# rectangles = {\n",
    "#     'A': {'start': (0, 0), 'width': 2, 'height': 2},\n",
    "#     'C': {'start': (0, 3), 'width': 2, 'height': 2},\n",
    "#     'L': {'start': (3, 0), 'width': 2, 'height': 2},\n",
    "#     'P': {'start': (3, 3), 'width': 2, 'height': 2},\n",
    "# }\n",
    "\n",
    "# for rect in rectangles.values():\n",
    "#     ax.add_patch(patches.Rectangle(rect['start'], rect['width'], rect['height'],\n",
    "#                                    linewidth=2, edgecolor='yellow', facecolor='none'))\n",
    "\n",
    "\n",
    "plt.title(\"25-Grid Pitch Location\")\n",
    "plt.xlabel(\"Horizontal Ending\")\n",
    "plt.ylabel(\"Vertical Ending\")\n",
    "plt.show()\n"
   ]
  },
  {
   "cell_type": "markdown",
   "metadata": {},
   "source": [
    "\n",
    "## 追打情形"
   ]
  },
  {
   "cell_type": "code",
   "execution_count": null,
   "metadata": {},
   "outputs": [
    {
     "name": "stdout",
     "output_type": "stream",
     "text": [
      "obvious_off_zone_pitches row counts:\n",
      "32\n"
     ]
    },
    {
     "data": {
      "text/html": [
       "<div>\n",
       "<style scoped>\n",
       "    .dataframe tbody tr th:only-of-type {\n",
       "        vertical-align: middle;\n",
       "    }\n",
       "\n",
       "    .dataframe tbody tr th {\n",
       "        vertical-align: top;\n",
       "    }\n",
       "\n",
       "    .dataframe thead th {\n",
       "        text-align: right;\n",
       "    }\n",
       "</style>\n",
       "<table border=\"1\" class=\"dataframe\">\n",
       "  <thead>\n",
       "    <tr style=\"text-align: right;\">\n",
       "      <th></th>\n",
       "      <th>id</th>\n",
       "      <th>abs_id</th>\n",
       "      <th>nth_pitch_ab</th>\n",
       "      <th>out_count</th>\n",
       "      <th>strike_count</th>\n",
       "      <th>ball_count</th>\n",
       "      <th>is_rhp</th>\n",
       "      <th>has_stealing_attempt</th>\n",
       "      <th>pitch_type</th>\n",
       "      <th>pitch_release</th>\n",
       "      <th>...</th>\n",
       "      <th>is_team_leading</th>\n",
       "      <th>has_swing_intention</th>\n",
       "      <th>horizontal_ending</th>\n",
       "      <th>vertical_ending</th>\n",
       "      <th>is_swing_delayed</th>\n",
       "      <th>is_swing_early</th>\n",
       "      <th>is_whiff</th>\n",
       "      <th>any_on_base</th>\n",
       "      <th>base_combination</th>\n",
       "      <th>25_grid</th>\n",
       "    </tr>\n",
       "  </thead>\n",
       "  <tbody>\n",
       "    <tr>\n",
       "      <th>4</th>\n",
       "      <td>04aed05c-1302-4121-bcc2-be9a8ef1a3c4</td>\n",
       "      <td>2</td>\n",
       "      <td>3</td>\n",
       "      <td>1</td>\n",
       "      <td>2</td>\n",
       "      <td>0</td>\n",
       "      <td>False</td>\n",
       "      <td>False</td>\n",
       "      <td>four_seam</td>\n",
       "      <td>overhand</td>\n",
       "      <td>...</td>\n",
       "      <td>True</td>\n",
       "      <td>True</td>\n",
       "      <td>middle</td>\n",
       "      <td>high</td>\n",
       "      <td>True</td>\n",
       "      <td>False</td>\n",
       "      <td>True</td>\n",
       "      <td>True</td>\n",
       "      <td>11</td>\n",
       "      <td>B</td>\n",
       "    </tr>\n",
       "  </tbody>\n",
       "</table>\n",
       "<p>1 rows × 28 columns</p>\n",
       "</div>"
      ],
      "text/plain": [
       "                                     id  abs_id  nth_pitch_ab  out_count  \\\n",
       "4  04aed05c-1302-4121-bcc2-be9a8ef1a3c4       2             3          1   \n",
       "\n",
       "   strike_count  ball_count  is_rhp  has_stealing_attempt pitch_type  \\\n",
       "4             2           0   False                 False  four_seam   \n",
       "\n",
       "  pitch_release  ...  is_team_leading  has_swing_intention  horizontal_ending  \\\n",
       "4      overhand  ...             True                 True             middle   \n",
       "\n",
       "   vertical_ending  is_swing_delayed  is_swing_early is_whiff  any_on_base  \\\n",
       "4             high              True           False     True         True   \n",
       "\n",
       "   base_combination  25_grid  \n",
       "4                11        B  \n",
       "\n",
       "[1 rows x 28 columns]"
      ]
     },
     "execution_count": 49,
     "metadata": {},
     "output_type": "execute_result"
    }
   ],
   "source": [
    "obvious_off_zone_pitches = pitches_df.loc[pitches_df['is_obvious_off_zone'] == True]\n",
    "\n",
    "print('obvious_off_zone_pitches row counts:')\n",
    "print(obvious_off_zone_pitches.shape[0])\n",
    "\n",
    "obvious_off_zone_pitches.head(1)"
   ]
  },
  {
   "cell_type": "code",
   "execution_count": null,
   "metadata": {},
   "outputs": [
    {
     "name": "stdout",
     "output_type": "stream",
     "text": [
      "ending_combination\n",
      "outside_low     40.625\n",
      "middle_high     18.750\n",
      "outside_high    18.750\n",
      "inside_high     15.625\n",
      "middle_low       3.125\n",
      "inside_low       3.125\n",
      "Name: proportion, dtype: float64\n"
     ]
    }
   ],
   "source": [
    "# 計算每種組合的佔比\n",
    "\n",
    "obvious_off_zone_pitches_copy = obvious_off_zone_pitches.copy()\n",
    "\n",
    "obvious_off_zone_pitches_copy['ending_combination'] = obvious_off_zone_pitches_copy['horizontal_ending'] + \\\n",
    "    '_' + obvious_off_zone_pitches_copy['vertical_ending']\n",
    "\n",
    "off_zone_proportion = obvious_off_zone_pitches_copy['ending_combination'].value_counts(\n",
    "    normalize=True) * 100\n",
    "\n",
    "print(off_zone_proportion)\n"
   ]
  },
  {
   "cell_type": "markdown",
   "metadata": {},
   "source": []
  },
  {
   "cell_type": "code",
   "execution_count": null,
   "metadata": {},
   "outputs": [],
   "source": []
  },
  {
   "cell_type": "markdown",
   "metadata": {},
   "source": []
  },
  {
   "cell_type": "code",
   "execution_count": null,
   "metadata": {},
   "outputs": [],
   "source": []
  }
 ],
 "metadata": {
  "kernelspec": {
   "display_name": "data-science",
   "language": "python",
   "name": "python3"
  },
  "language_info": {
   "codemirror_mode": {
    "name": "ipython",
    "version": 3
   },
   "file_extension": ".py",
   "mimetype": "text/x-python",
   "name": "python",
   "nbconvert_exporter": "python",
   "pygments_lexer": "ipython3",
   "version": "3.8.16"
  }
 },
 "nbformat": 4,
 "nbformat_minor": 2
}
