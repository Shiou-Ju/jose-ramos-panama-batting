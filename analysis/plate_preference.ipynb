{
 "cells": [
  {
   "cell_type": "code",
   "execution_count": 1,
   "metadata": {},
   "outputs": [
    {
     "name": "stdout",
     "output_type": "stream",
     "text": [
      "DataFrame Shape: (93, 27)\n"
     ]
    }
   ],
   "source": [
    "import pandas as pd\n",
    "\n",
    "file_path = '../labeled/jose_ramos_pitches_df_cleaned.csv'\n",
    "\n",
    "df = pd.read_csv(file_path)\n",
    "\n",
    "print(\"DataFrame Shape:\", df.shape)\n"
   ]
  },
  {
   "cell_type": "code",
   "execution_count": 2,
   "metadata": {},
   "outputs": [
    {
     "data": {
      "text/plain": [
       "Index(['id', 'abs_id', 'nth_pitch_ab', 'out_count', 'strike_count',\n",
       "       'ball_count', 'is_rhp', 'has_stealing_attempt', 'pitch_type',\n",
       "       'pitch_release', 'is_obvious_off_zone', 'is_pitch_ended_catcher_want',\n",
       "       'has_swing', 'has_first_base_runner', 'has_second_base_runner',\n",
       "       'has_third_base_runner', 'has_visible_shift', 'score_diffrence',\n",
       "       'is_team_leading', 'has_swing_intention', 'horizontal_ending',\n",
       "       'vertical_ending', 'is_swing_delayed', 'is_swing_early', 'is_whiff',\n",
       "       'any_on_base', 'base_combination'],\n",
       "      dtype='object')"
      ]
     },
     "execution_count": 2,
     "metadata": {},
     "output_type": "execute_result"
    }
   ],
   "source": [
    "df.columns\n"
   ]
  },
  {
   "cell_type": "markdown",
   "metadata": {},
   "source": [
    "多了  'any_on_base', 'base_combination' "
   ]
  },
  {
   "cell_type": "markdown",
   "metadata": {},
   "source": [
    "### 什麼樣的球會打成安打？"
   ]
  },
  {
   "cell_type": "code",
   "execution_count": null,
   "metadata": {},
   "outputs": [],
   "source": []
  }
 ],
 "metadata": {
  "kernelspec": {
   "display_name": "data-science",
   "language": "python",
   "name": "python3"
  },
  "language_info": {
   "codemirror_mode": {
    "name": "ipython",
    "version": 3
   },
   "file_extension": ".py",
   "mimetype": "text/x-python",
   "name": "python",
   "nbconvert_exporter": "python",
   "pygments_lexer": "ipython3",
   "version": "3.8.16"
  }
 },
 "nbformat": 4,
 "nbformat_minor": 2
}
