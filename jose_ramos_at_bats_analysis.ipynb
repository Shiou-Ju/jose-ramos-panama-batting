{
 "cells": [
  {
   "cell_type": "code",
   "execution_count": 2,
   "metadata": {},
   "outputs": [
    {
     "data": {
      "text/html": [
       "<div>\n",
       "<style scoped>\n",
       "    .dataframe tbody tr th:only-of-type {\n",
       "        vertical-align: middle;\n",
       "    }\n",
       "\n",
       "    .dataframe tbody tr th {\n",
       "        vertical-align: top;\n",
       "    }\n",
       "\n",
       "    .dataframe thead th {\n",
       "        text-align: right;\n",
       "    }\n",
       "</style>\n",
       "<table border=\"1\" class=\"dataframe\">\n",
       "  <thead>\n",
       "    <tr style=\"text-align: right;\">\n",
       "      <th></th>\n",
       "      <th>abs_id</th>\n",
       "      <th>file_name</th>\n",
       "      <th>file_name_date</th>\n",
       "      <th>file_name_player_name</th>\n",
       "      <th>file_name_pitcher_type</th>\n",
       "      <th>file_name_at_bat_number</th>\n",
       "      <th>file_name_result</th>\n",
       "      <th>is_filename_result_consistent</th>\n",
       "      <th>inning</th>\n",
       "      <th>at_bat_result</th>\n",
       "      <th>weather</th>\n",
       "      <th>game_time</th>\n",
       "    </tr>\n",
       "  </thead>\n",
       "  <tbody>\n",
       "    <tr>\n",
       "      <th>0</th>\n",
       "      <td>1</td>\n",
       "      <td>2022-09-10 Jose Ramos VS 右投 打席2_二飛.mp4</td>\n",
       "      <td>2022-09-10</td>\n",
       "      <td>Jose Ramos</td>\n",
       "      <td>RHP</td>\n",
       "      <td>2</td>\n",
       "      <td>二飛</td>\n",
       "      <td>True</td>\n",
       "      <td>4</td>\n",
       "      <td>4F</td>\n",
       "      <td>sunny</td>\n",
       "      <td>day</td>\n",
       "    </tr>\n",
       "  </tbody>\n",
       "</table>\n",
       "</div>"
      ],
      "text/plain": [
       "   abs_id                               file_name file_name_date  \\\n",
       "0       1  2022-09-10 Jose Ramos VS 右投 打席2_二飛.mp4     2022-09-10   \n",
       "\n",
       "  file_name_player_name file_name_pitcher_type  file_name_at_bat_number  \\\n",
       "0            Jose Ramos                    RHP                        2   \n",
       "\n",
       "  file_name_result  is_filename_result_consistent  inning at_bat_result  \\\n",
       "0               二飛                           True       4            4F   \n",
       "\n",
       "  weather game_time  \n",
       "0   sunny       day  "
      ]
     },
     "execution_count": 2,
     "metadata": {},
     "output_type": "execute_result"
    }
   ],
   "source": [
    "import pandas as pd\n",
    "\n",
    "abs_path = \"./labeled/50_abs_jose_ramos_20240308.csv\"\n",
    "pitches_path = \"./labeled/95_pitches_jose_ramos_20240308.csv\"\n",
    "\n",
    "abs_df = pd.read_csv(abs_path)\n",
    "pitches_df = pd.read_csv(pitches_path)\n",
    "\n",
    "abs_df.head(1)"
   ]
  },
  {
   "cell_type": "code",
   "execution_count": 3,
   "metadata": {},
   "outputs": [
    {
     "data": {
      "text/html": [
       "<div>\n",
       "<style scoped>\n",
       "    .dataframe tbody tr th:only-of-type {\n",
       "        vertical-align: middle;\n",
       "    }\n",
       "\n",
       "    .dataframe tbody tr th {\n",
       "        vertical-align: top;\n",
       "    }\n",
       "\n",
       "    .dataframe thead th {\n",
       "        text-align: right;\n",
       "    }\n",
       "</style>\n",
       "<table border=\"1\" class=\"dataframe\">\n",
       "  <thead>\n",
       "    <tr style=\"text-align: right;\">\n",
       "      <th></th>\n",
       "      <th>id</th>\n",
       "      <th>file_name</th>\n",
       "      <th>file_name_date</th>\n",
       "      <th>file_name_player_name</th>\n",
       "      <th>file_name_pitcher_type</th>\n",
       "      <th>file_name_at_bat_number</th>\n",
       "      <th>file_name_result</th>\n",
       "      <th>inning</th>\n",
       "      <th>abs_id</th>\n",
       "      <th>nth_pitch_ab</th>\n",
       "      <th>...</th>\n",
       "      <th>score_diffrence</th>\n",
       "      <th>is_team_leading</th>\n",
       "      <th>weather</th>\n",
       "      <th>game_time</th>\n",
       "      <th>has_swing_intention</th>\n",
       "      <th>horizontal_ending</th>\n",
       "      <th>vertical_ending</th>\n",
       "      <th>is_swing_delayed</th>\n",
       "      <th>is_swing_early</th>\n",
       "      <th>is_whiff</th>\n",
       "    </tr>\n",
       "  </thead>\n",
       "  <tbody>\n",
       "    <tr>\n",
       "      <th>0</th>\n",
       "      <td>4e1e4436-2ba9-41a0-b88a-5cc4641edcbe</td>\n",
       "      <td>2022-09-10 Jose Ramos VS 右投 打席2_二飛.mp4</td>\n",
       "      <td>2022-09-10</td>\n",
       "      <td>Jose Ramos</td>\n",
       "      <td>RHP</td>\n",
       "      <td>2.0</td>\n",
       "      <td>二飛</td>\n",
       "      <td>4.0</td>\n",
       "      <td>1</td>\n",
       "      <td>1</td>\n",
       "      <td>...</td>\n",
       "      <td>1</td>\n",
       "      <td>True</td>\n",
       "      <td>sunny</td>\n",
       "      <td>day</td>\n",
       "      <td>False</td>\n",
       "      <td>outside</td>\n",
       "      <td>low</td>\n",
       "      <td>False</td>\n",
       "      <td>False</td>\n",
       "      <td>False</td>\n",
       "    </tr>\n",
       "  </tbody>\n",
       "</table>\n",
       "<p>1 rows × 36 columns</p>\n",
       "</div>"
      ],
      "text/plain": [
       "                                     id  \\\n",
       "0  4e1e4436-2ba9-41a0-b88a-5cc4641edcbe   \n",
       "\n",
       "                                file_name file_name_date  \\\n",
       "0  2022-09-10 Jose Ramos VS 右投 打席2_二飛.mp4     2022-09-10   \n",
       "\n",
       "  file_name_player_name file_name_pitcher_type  file_name_at_bat_number  \\\n",
       "0            Jose Ramos                    RHP                      2.0   \n",
       "\n",
       "  file_name_result  inning  abs_id  nth_pitch_ab  ...  score_diffrence  \\\n",
       "0               二飛     4.0       1             1  ...                1   \n",
       "\n",
       "   is_team_leading  weather  game_time has_swing_intention horizontal_ending  \\\n",
       "0             True    sunny        day               False           outside   \n",
       "\n",
       "   vertical_ending is_swing_delayed is_swing_early  is_whiff  \n",
       "0              low            False          False     False  \n",
       "\n",
       "[1 rows x 36 columns]"
      ]
     },
     "execution_count": 3,
     "metadata": {},
     "output_type": "execute_result"
    }
   ],
   "source": [
    "pitches_df.head(1)"
   ]
  },
  {
   "cell_type": "markdown",
   "metadata": {},
   "source": [
    "### 確認欄位資訊 & 清理"
   ]
  },
  {
   "cell_type": "code",
   "execution_count": 4,
   "metadata": {},
   "outputs": [
    {
     "name": "stdout",
     "output_type": "stream",
     "text": [
      "abs_df row count: 50, column count: 12\n",
      "pitches_df row count: 93, column count: 36\n"
     ]
    }
   ],
   "source": [
    "print(f\"abs_df row count: {abs_df.shape[0]}, column count: {abs_df.shape[1]}\")\n",
    "print(f\"pitches_df row count: {pitches_df.shape[0]}, column count: {pitches_df.shape[1]}\")\n"
   ]
  },
  {
   "cell_type": "code",
   "execution_count": 5,
   "metadata": {},
   "outputs": [
    {
     "data": {
      "text/plain": [
       "Index(['id', 'file_name', 'file_name_date', 'file_name_player_name',\n",
       "       'file_name_pitcher_type', 'file_name_at_bat_number', 'file_name_result',\n",
       "       'inning', 'abs_id', 'nth_pitch_ab', 'out_count', 'strike_count',\n",
       "       'ball_count', 'is_rhp', 'at_bat_result',\n",
       "       'is_filename_result_consistent', 'has_stealing_attempt', 'pitch_type',\n",
       "       'pitch_release', 'is_obvious_off_zone', 'is_pitch_ended_catcher_want',\n",
       "       'has_swing', 'has_first_base_runner', 'has_second_base_runner',\n",
       "       'has_third_base_runner', 'has_visible_shift', 'score_diffrence',\n",
       "       'is_team_leading', 'weather', 'game_time', 'has_swing_intention',\n",
       "       'horizontal_ending', 'vertical_ending', 'is_swing_delayed',\n",
       "       'is_swing_early', 'is_whiff'],\n",
       "      dtype='object')"
      ]
     },
     "execution_count": 5,
     "metadata": {},
     "output_type": "execute_result"
    }
   ],
   "source": [
    "pitches_df.columns\n"
   ]
  },
  {
   "cell_type": "code",
   "execution_count": 22,
   "metadata": {},
   "outputs": [
    {
     "data": {
      "text/plain": [
       "Index(['abs_id', 'file_name', 'file_name_date', 'file_name_player_name',\n",
       "       'file_name_pitcher_type', 'file_name_at_bat_number', 'file_name_result',\n",
       "       'is_filename_result_consistent', 'inning', 'at_bat_result', 'weather',\n",
       "       'game_time'],\n",
       "      dtype='object')"
      ]
     },
     "execution_count": 22,
     "metadata": {},
     "output_type": "execute_result"
    }
   ],
   "source": [
    "abs_df.columns"
   ]
  },
  {
   "cell_type": "code",
   "execution_count": 20,
   "metadata": {},
   "outputs": [
    {
     "name": "stdout",
     "output_type": "stream",
     "text": [
      "Columns count: 25\n",
      "row count: 93\n",
      "cell count: 2325\n"
     ]
    },
    {
     "data": {
      "text/plain": [
       "Index(['id', 'abs_id', 'nth_pitch_ab', 'out_count', 'strike_count',\n",
       "       'ball_count', 'is_rhp', 'has_stealing_attempt', 'pitch_type',\n",
       "       'pitch_release', 'is_obvious_off_zone', 'is_pitch_ended_catcher_want',\n",
       "       'has_swing', 'has_first_base_runner', 'has_second_base_runner',\n",
       "       'has_third_base_runner', 'has_visible_shift', 'score_diffrence',\n",
       "       'is_team_leading', 'has_swing_intention', 'horizontal_ending',\n",
       "       'vertical_ending', 'is_swing_delayed', 'is_swing_early', 'is_whiff'],\n",
       "      dtype='object')"
      ]
     },
     "execution_count": 20,
     "metadata": {},
     "output_type": "execute_result"
    }
   ],
   "source": [
    "# 刪除 pitches 無用欄位\n",
    "# 因 abs 已有正確及詳細的\n",
    "columns_to_drop = [\n",
    "    'file_name', 'file_name_date', 'file_name_player_name',\n",
    "    'file_name_pitcher_type', 'file_name_at_bat_number', 'file_name_result',\n",
    "    'inning', 'is_filename_result_consistent', 'at_bat_result', 'game_time',  'weather'\n",
    "]\n",
    "\n",
    "# 逐球記錄的資料量\n",
    "pitches_df_cleaned = pitches_df.drop(columns=columns_to_drop, axis=1)\n",
    "print(f\"Columns count: {pitches_df_cleaned.shape[1]}\")\n",
    "print(f\"row count: {pitches_df_cleaned.shape[0]}\")\n",
    "print(\n",
    "    f\"cell count: {pitches_df_cleaned.shape[0] *pitches_df_cleaned.shape[1] }\")\n",
    "\n",
    "pitches_df_cleaned.columns\n"
   ]
  },
  {
   "cell_type": "code",
   "execution_count": 21,
   "metadata": {},
   "outputs": [
    {
     "name": "stdout",
     "output_type": "stream",
     "text": [
      "abs_df row count: 50, column count: 12\n",
      "abs_df cell counts: 600\n"
     ]
    }
   ],
   "source": [
    "# 打席數的資料量\n",
    "print(f\"abs_df cell counts: {abs_df.shape[0] *abs_df.shape[1]}\")"
   ]
  },
  {
   "cell_type": "code",
   "execution_count": 7,
   "metadata": {},
   "outputs": [
    {
     "name": "stdout",
     "output_type": "stream",
     "text": [
      "vertical_ending unique value: ['low' 'high' 'middle']\n",
      "horizontal_ending unique value: ['outside' 'middle' 'inside']\n",
      "is_rhp unique value: [ True False]\n",
      "pitch_type unique value: ['slider' 'four_seam' 'sinker' 'curve' 'changeup' 'cutter']\n",
      "pitch_release unique value: ['overhand' 'side_arm']\n"
     ]
    }
   ],
   "source": [
    "# 確認是否各球欄位都是預設的值\n",
    "fields_to_validate = ['vertical_ending', 'horizontal_ending', 'is_rhp', 'pitch_type', 'pitch_release']\n",
    "\n",
    "for field in fields_to_validate:\n",
    "    print(f\"{field} unique value: {pitches_df_cleaned[field].unique()}\")\n"
   ]
  },
  {
   "cell_type": "code",
   "execution_count": 60,
   "metadata": {},
   "outputs": [
    {
     "name": "stdout",
     "output_type": "stream",
     "text": [
      "File saved: ./jose_ramos_pitches_df_cleaned.csv\n"
     ]
    }
   ],
   "source": [
    "import os\n",
    "\n",
    "output_file_path = './jose_ramos_pitches_df_cleaned.csv'\n",
    "\n",
    "if not os.path.exists(output_file_path):\n",
    "    pitches_df_cleaned.to_csv(output_file_path, index=False)\n",
    "    print(f\"File saved: {output_file_path}\")\n",
    "else:\n",
    "    print(\"File already exists.\")"
   ]
  },
  {
   "cell_type": "markdown",
   "metadata": {},
   "source": [
    "### 完成初步清理"
   ]
  },
  {
   "cell_type": "markdown",
   "metadata": {},
   "source": [
    "### 觀察：第一球似乎不愛出棒"
   ]
  },
  {
   "cell_type": "code",
   "execution_count": 47,
   "metadata": {},
   "outputs": [
    {
     "name": "stdout",
     "output_type": "stream",
     "text": [
      "original row counts: 26\n",
      "latter row counts: 23\n"
     ]
    },
    {
     "data": {
      "text/html": [
       "<div>\n",
       "<style scoped>\n",
       "    .dataframe tbody tr th:only-of-type {\n",
       "        vertical-align: middle;\n",
       "    }\n",
       "\n",
       "    .dataframe tbody tr th {\n",
       "        vertical-align: top;\n",
       "    }\n",
       "\n",
       "    .dataframe thead th {\n",
       "        text-align: right;\n",
       "    }\n",
       "</style>\n",
       "<table border=\"1\" class=\"dataframe\">\n",
       "  <thead>\n",
       "    <tr style=\"text-align: right;\">\n",
       "      <th></th>\n",
       "      <th>id</th>\n",
       "      <th>abs_id</th>\n",
       "      <th>nth_pitch_ab</th>\n",
       "      <th>out_count</th>\n",
       "      <th>strike_count</th>\n",
       "      <th>ball_count</th>\n",
       "      <th>is_rhp</th>\n",
       "      <th>has_stealing_attempt</th>\n",
       "      <th>pitch_type</th>\n",
       "      <th>pitch_release</th>\n",
       "      <th>...</th>\n",
       "      <th>file_name_date</th>\n",
       "      <th>file_name_player_name</th>\n",
       "      <th>file_name_pitcher_type</th>\n",
       "      <th>file_name_at_bat_number</th>\n",
       "      <th>file_name_result</th>\n",
       "      <th>is_filename_result_consistent</th>\n",
       "      <th>inning</th>\n",
       "      <th>at_bat_result</th>\n",
       "      <th>weather</th>\n",
       "      <th>game_time</th>\n",
       "    </tr>\n",
       "  </thead>\n",
       "  <tbody>\n",
       "    <tr>\n",
       "      <th>0</th>\n",
       "      <td>4e1e4436-2ba9-41a0-b88a-5cc4641edcbe</td>\n",
       "      <td>1</td>\n",
       "      <td>1</td>\n",
       "      <td>0</td>\n",
       "      <td>0</td>\n",
       "      <td>0</td>\n",
       "      <td>True</td>\n",
       "      <td>False</td>\n",
       "      <td>slider</td>\n",
       "      <td>overhand</td>\n",
       "      <td>...</td>\n",
       "      <td>2022-09-10</td>\n",
       "      <td>Jose Ramos</td>\n",
       "      <td>RHP</td>\n",
       "      <td>2</td>\n",
       "      <td>二飛</td>\n",
       "      <td>True</td>\n",
       "      <td>4</td>\n",
       "      <td>4F</td>\n",
       "      <td>sunny</td>\n",
       "      <td>day</td>\n",
       "    </tr>\n",
       "    <tr>\n",
       "      <th>2</th>\n",
       "      <td>bc4092b0-4083-4fd7-bf98-3863f7a4c82b</td>\n",
       "      <td>2</td>\n",
       "      <td>1</td>\n",
       "      <td>1</td>\n",
       "      <td>0</td>\n",
       "      <td>0</td>\n",
       "      <td>False</td>\n",
       "      <td>False</td>\n",
       "      <td>four_seam</td>\n",
       "      <td>overhand</td>\n",
       "      <td>...</td>\n",
       "      <td>2022-09-01</td>\n",
       "      <td>Jose Ramos</td>\n",
       "      <td>LHP</td>\n",
       "      <td>1</td>\n",
       "      <td>三振</td>\n",
       "      <td>True</td>\n",
       "      <td>1</td>\n",
       "      <td>SK</td>\n",
       "      <td>sunny</td>\n",
       "      <td>day</td>\n",
       "    </tr>\n",
       "    <tr>\n",
       "      <th>5</th>\n",
       "      <td>4feecff9-2d3c-4b1e-a22f-9638e3dcb921</td>\n",
       "      <td>3</td>\n",
       "      <td>1</td>\n",
       "      <td>1</td>\n",
       "      <td>0</td>\n",
       "      <td>0</td>\n",
       "      <td>True</td>\n",
       "      <td>False</td>\n",
       "      <td>four_seam</td>\n",
       "      <td>overhand</td>\n",
       "      <td>...</td>\n",
       "      <td>2022-08-19</td>\n",
       "      <td>Jose Ramos</td>\n",
       "      <td>RHP</td>\n",
       "      <td>3</td>\n",
       "      <td>游滾</td>\n",
       "      <td>True</td>\n",
       "      <td>5</td>\n",
       "      <td>6G</td>\n",
       "      <td>unknown</td>\n",
       "      <td>unknown</td>\n",
       "    </tr>\n",
       "    <tr>\n",
       "      <th>8</th>\n",
       "      <td>6c7c1ff4-8380-4f9f-9e64-09b87a69549e</td>\n",
       "      <td>4</td>\n",
       "      <td>1</td>\n",
       "      <td>1</td>\n",
       "      <td>0</td>\n",
       "      <td>0</td>\n",
       "      <td>False</td>\n",
       "      <td>False</td>\n",
       "      <td>four_seam</td>\n",
       "      <td>overhand</td>\n",
       "      <td>...</td>\n",
       "      <td>2022-08-23</td>\n",
       "      <td>Jose Ramos</td>\n",
       "      <td>LHP</td>\n",
       "      <td>1</td>\n",
       "      <td>左全</td>\n",
       "      <td>True</td>\n",
       "      <td>1</td>\n",
       "      <td>7_HR</td>\n",
       "      <td>sunny</td>\n",
       "      <td>day</td>\n",
       "    </tr>\n",
       "    <tr>\n",
       "      <th>12</th>\n",
       "      <td>6bb91152-4119-40ee-b644-457ce8f5281a</td>\n",
       "      <td>5</td>\n",
       "      <td>1</td>\n",
       "      <td>2</td>\n",
       "      <td>0</td>\n",
       "      <td>0</td>\n",
       "      <td>True</td>\n",
       "      <td>False</td>\n",
       "      <td>curve</td>\n",
       "      <td>overhand</td>\n",
       "      <td>...</td>\n",
       "      <td>2022-08-10</td>\n",
       "      <td>Jose Ramos</td>\n",
       "      <td>RHP</td>\n",
       "      <td>4</td>\n",
       "      <td>三振</td>\n",
       "      <td>True</td>\n",
       "      <td>8</td>\n",
       "      <td>CK</td>\n",
       "      <td>sunny</td>\n",
       "      <td>night</td>\n",
       "    </tr>\n",
       "  </tbody>\n",
       "</table>\n",
       "<p>5 rows × 38 columns</p>\n",
       "</div>"
      ],
      "text/plain": [
       "                                      id  abs_id  nth_pitch_ab  out_count  \\\n",
       "0   4e1e4436-2ba9-41a0-b88a-5cc4641edcbe       1             1          0   \n",
       "2   bc4092b0-4083-4fd7-bf98-3863f7a4c82b       2             1          1   \n",
       "5   4feecff9-2d3c-4b1e-a22f-9638e3dcb921       3             1          1   \n",
       "8   6c7c1ff4-8380-4f9f-9e64-09b87a69549e       4             1          1   \n",
       "12  6bb91152-4119-40ee-b644-457ce8f5281a       5             1          2   \n",
       "\n",
       "    strike_count  ball_count  is_rhp  has_stealing_attempt pitch_type  \\\n",
       "0              0           0    True                 False     slider   \n",
       "2              0           0   False                 False  four_seam   \n",
       "5              0           0    True                 False  four_seam   \n",
       "8              0           0   False                 False  four_seam   \n",
       "12             0           0    True                 False      curve   \n",
       "\n",
       "   pitch_release  ...  file_name_date  file_name_player_name  \\\n",
       "0       overhand  ...      2022-09-10             Jose Ramos   \n",
       "2       overhand  ...      2022-09-01             Jose Ramos   \n",
       "5       overhand  ...      2022-08-19             Jose Ramos   \n",
       "8       overhand  ...      2022-08-23             Jose Ramos   \n",
       "12      overhand  ...      2022-08-10             Jose Ramos   \n",
       "\n",
       "    file_name_pitcher_type  file_name_at_bat_number  file_name_result  \\\n",
       "0                      RHP                        2                二飛   \n",
       "2                      LHP                        1                三振   \n",
       "5                      RHP                        3                游滾   \n",
       "8                      LHP                        1                左全   \n",
       "12                     RHP                        4                三振   \n",
       "\n",
       "    is_filename_result_consistent inning  at_bat_result  weather  game_time  \n",
       "0                            True      4             4F    sunny        day  \n",
       "2                            True      1             SK    sunny        day  \n",
       "5                            True      5             6G  unknown    unknown  \n",
       "8                            True      1           7_HR    sunny        day  \n",
       "12                           True      8             CK    sunny      night  \n",
       "\n",
       "[5 rows x 38 columns]"
      ]
     },
     "execution_count": 47,
     "metadata": {},
     "output_type": "execute_result"
    }
   ],
   "source": [
    "# 合併兩張表\n",
    "combined_df = pd.merge(pitches_df_cleaned, abs_df, on='abs_id', how='left')\n",
    "\n",
    "first_pitches_df = combined_df.loc[combined_df.groupby('abs_id')[\n",
    "    'nth_pitch_ab'].idxmin()]\n",
    "\n",
    "print(f\"original row counts: {first_pitches_df.shape[0]}\")\n",
    "\n",
    "# 有些打席不是從第一球開始\n",
    "first_pitches_df = first_pitches_df[first_pitches_df['nth_pitch_ab'] == 1]\n",
    "\n",
    "print(f\"latter row counts: {first_pitches_df.shape[0]}\")\n",
    "\n",
    "first_pitches_df.head()"
   ]
  },
  {
   "cell_type": "code",
   "execution_count": 48,
   "metadata": {},
   "outputs": [
    {
     "name": "stdout",
     "output_type": "stream",
     "text": [
      "overall swing intention: 0.58\n",
      "overall swing: 0.52\n",
      "overall whiff rate: 0.33\n"
     ]
    }
   ],
   "source": [
    "# 整體出棒意圖 & 整體揮空比例\n",
    "overall_swing_intention_rate = pitches_df_cleaned['has_swing_intention'].mean()\n",
    "overall_swing_rate = pitches_df_cleaned['has_swing'].mean()\n",
    "\n",
    "overall_whiff_rate = pitches_df_cleaned[pitches_df_cleaned['has_swing'] == True]['is_whiff'].mean()\n",
    "\n",
    "print(f\"overall swing intention: {overall_swing_intention_rate:.2f}\")\n",
    "print(f\"overall swing: {overall_swing_rate:.2f}\")\n",
    "print(f\"overall whiff rate: {overall_whiff_rate:.2f}\")"
   ]
  },
  {
   "cell_type": "code",
   "execution_count": 49,
   "metadata": {},
   "outputs": [
    {
     "name": "stdout",
     "output_type": "stream",
     "text": [
      "Intention to swing on first pitch: 0.43\n",
      "Swing rate on the first pitch: 0.39\n",
      "Whiff rate on the first pitch when swinging: 0.33\n"
     ]
    }
   ],
   "source": [
    "# 第一球出棒情況\n",
    "first_ball_swing_intention_rate = first_pitches_df['has_swing_intention'].mean(\n",
    ")\n",
    "\n",
    "first_ball_swing_rate = first_pitches_df['has_swing'].mean()\n",
    "\n",
    "first_ball_whiff_rate = first_pitches_df[first_pitches_df['has_swing']\n",
    "                                         == True]['is_whiff'].mean()\n",
    "\n",
    "print(\n",
    "    f\"Intention to swing on first pitch: {first_ball_swing_intention_rate:.2f}\")\n",
    "print(f\"Swing rate on the first pitch: {first_ball_swing_rate:.2f}\")\n",
    "print(\n",
    "    f\"Whiff rate on the first pitch when swinging: {first_ball_whiff_rate:.2f}\")\n"
   ]
  },
  {
   "cell_type": "markdown",
   "metadata": {},
   "source": [
    "第一球是有下降 15% 的整體揮棒意圖，實際揮棒上也將低了 13% ，說明比較容易看第一球。\n"
   ]
  },
  {
   "cell_type": "markdown",
   "metadata": {},
   "source": [
    "### 結論\n",
    "喜歡先等一球，如果有機會再精細分析球種以及不同投手的比較。"
   ]
  },
  {
   "cell_type": "markdown",
   "metadata": {},
   "source": [
    "### 觀察：壘上有人較積極?\n",
    "亦即出棒意圖，比壘上沒人的時候還要多"
   ]
  },
  {
   "cell_type": "code",
   "execution_count": 50,
   "metadata": {},
   "outputs": [
    {
     "data": {
      "text/plain": [
       "0    False\n",
       "1    False\n",
       "2     True\n",
       "3     True\n",
       "4     True\n",
       "Name: any_on_base, dtype: bool"
      ]
     },
     "execution_count": 50,
     "metadata": {},
     "output_type": "execute_result"
    }
   ],
   "source": [
    "# 新增任一壘包有人的欄位\n",
    "pitches_df_cleaned['any_on_base'] = pitches_df_cleaned[['has_first_base_runner', 'has_second_base_runner', 'has_third_base_runner']].any(axis=1)\n",
    "\n",
    "pitches_df_cleaned['any_on_base'].head()"
   ]
  },
  {
   "cell_type": "code",
   "execution_count": 51,
   "metadata": {},
   "outputs": [
    {
     "data": {
      "text/plain": [
       "any_on_base\n",
       "False    0.509804\n",
       "True     0.666667\n",
       "Name: has_swing_intention, dtype: float64"
      ]
     },
     "execution_count": 51,
     "metadata": {},
     "output_type": "execute_result"
    }
   ],
   "source": [
    "# group 計算有人及無人的出棒意圖比例\n",
    "swing_intention_rates = pitches_df_cleaned.groupby('any_on_base')['has_swing_intention'].mean()\n",
    "\n",
    "swing_intention_rates"
   ]
  },
  {
   "cell_type": "code",
   "execution_count": 52,
   "metadata": {},
   "outputs": [
    {
     "name": "stdout",
     "output_type": "stream",
     "text": [
      "base_combination\n",
      "000    0.509804\n",
      "001    0.166667\n",
      "010    0.666667\n",
      "011    1.000000\n",
      "100    0.631579\n",
      "101    0.750000\n",
      "110    1.000000\n",
      "111    1.000000\n",
      "Name: has_swing_intention, dtype: float64\n"
     ]
    }
   ],
   "source": [
    "# 定義八種壘上有人情況\n",
    "def label_bases(row):\n",
    "    return f\"{int(row['has_first_base_runner'])}{int(row['has_second_base_runner'])}{int(row['has_third_base_runner'])}\"\n",
    "\n",
    "# TODO: make string format better\n",
    "# def label_bases(row):\n",
    "#     bases = ['一', '二', '三']\n",
    "#     runners = [row['has_first_base_runner'], row['has_second_base_runner'], row['has_third_base_runner']]\n",
    "#     description = ''.join([bases[i] for i, runner in enumerate(runners) if runner])\n",
    "#     return f\"{description}壘有人\" if description else \"壘上無人\"\n",
    "\n",
    "pitches_df_cleaned['base_combination'] = pitches_df_cleaned.apply(label_bases, axis=1)\n",
    "\n",
    "swing_intention_rates_by_combination = pitches_df_cleaned.groupby('base_combination')['has_swing_intention'].mean()\n",
    "\n",
    "print(swing_intention_rates_by_combination)\n"
   ]
  },
  {
   "cell_type": "markdown",
   "metadata": {},
   "source": [
    "### 結論\n",
    "壘上有人的時候較積極，整體出棒意圖大概多出 15%。\n",
    "二三壘有人以及滿壘，為小樣本數，印象中僅一個打席。"
   ]
  },
  {
   "cell_type": "markdown",
   "metadata": {},
   "source": [
    "### 觀察：喜歡揮高球且容易揮空？"
   ]
  },
  {
   "cell_type": "markdown",
   "metadata": {},
   "source": [
    "#### 是相對愛出棒的打者\n",
    "\n",
    "以 Juan Soto 為例：\n",
    "```\n",
    "Juan Soto, 2021:\n",
    "\n",
    "35.0% swing rate, lowest in @MLB (min 1750 pitches seen)\n",
    "```\n",
    "https://twitter.com/SlangsOnSports/status/1508600071130132485\n",
    "來源"
   ]
  },
  {
   "cell_type": "code",
   "execution_count": 53,
   "metadata": {},
   "outputs": [
    {
     "name": "stdout",
     "output_type": "stream",
     "text": [
      "釣高球時的出棒意圖比例: 0.35\n",
      "釣高球時的揮空比例: 0.40\n"
     ]
    }
   ],
   "source": [
    "# pitch ending 高位的數據\n",
    "high_off_zone_pitch_df = pitches_df_cleaned[(pitches_df_cleaned['vertical_ending'] == 'high') & \n",
    "                                            (pitches_df_cleaned['is_obvious_off_zone'] == True)]\n",
    "\n",
    "# 計算高位 offzone 投球時的出棒意圖\n",
    "high_pitch_swing_intention_rate = high_off_zone_pitch_df['has_swing_intention'].mean()\n",
    "\n",
    "# 計算高位 offzone 揮空比例\n",
    "high_off_zone_swings = high_off_zone_pitch_df[high_off_zone_pitch_df['has_swing'] == True]\n",
    "\n",
    "high_pitch_whiff_rate = high_off_zone_swings['is_whiff'].mean()\n",
    "\n",
    "\n",
    "print(f\"釣高球時的出棒意圖比例: {high_pitch_swing_intention_rate:.2f}\")\n",
    "print(f\"釣高球時的揮空比例: {high_pitch_whiff_rate:.2f}\")\n"
   ]
  },
  {
   "cell_type": "markdown",
   "metadata": {},
   "source": [
    "但此數據跟看影片時的印象不一樣，因此進一步根據內外角去分析"
   ]
  },
  {
   "cell_type": "code",
   "execution_count": 54,
   "metadata": {},
   "outputs": [
    {
     "name": "stdout",
     "output_type": "stream",
     "text": [
      "釣高球不同橫向位置的出棒意圖：\n",
      "horizontal_ending\n",
      "inside     0.000000\n",
      "middle     0.666667\n",
      "outside    0.333333\n",
      "Name: has_swing_intention, dtype: float64\n"
     ]
    }
   ],
   "source": [
    "# 不同橫向位置位置釣高球的比例\n",
    "swing_intention_rates_by_position = high_off_zone_pitch_df.groupby([ 'horizontal_ending'])['has_swing_intention'].mean()\n",
    "\n",
    "print(\"釣高球不同橫向位置的出棒意圖：\")\n",
    "print(swing_intention_rates_by_position)"
   ]
  },
  {
   "cell_type": "code",
   "execution_count": 55,
   "metadata": {},
   "outputs": [
    {
     "name": "stdout",
     "output_type": "stream",
     "text": [
      "\n",
      "不同橫向位置釣高球揮空比例：\n",
      "vertical_ending  horizontal_ending\n",
      "high             middle               0.5\n",
      "                 outside              0.0\n",
      "Name: is_whiff, dtype: float64\n"
     ]
    }
   ],
   "source": [
    "# 不同橫向位置釣高球揮空比例\n",
    "high_off_zone_swings = high_off_zone_pitch_df[high_off_zone_pitch_df['has_swing'] == True]\n",
    "whiff_rates_by_position = high_off_zone_swings.groupby(['vertical_ending', 'horizontal_ending'])['is_whiff'].mean()\n",
    "\n",
    "print(\"\\n不同橫向位置釣高球揮空比例：\")\n",
    "print(whiff_rates_by_position)\n"
   ]
  },
  {
   "cell_type": "markdown",
   "metadata": {},
   "source": [
    "釣高球要投在中間的位置最有效"
   ]
  },
  {
   "cell_type": "code",
   "execution_count": 56,
   "metadata": {},
   "outputs": [
    {
     "name": "stdout",
     "output_type": "stream",
     "text": [
      "釣高球在不同橫向位置，在不同球數及球種的出棒意圖\n",
      "vertical_ending  horizontal_ending  pitch_type  strike_count\n",
      "high             inside             changeup    1               0.000000\n",
      "                                    four_seam   0               0.000000\n",
      "                                                2               0.000000\n",
      "                                    sinker      2               0.000000\n",
      "                                    slider      0               0.000000\n",
      "                 middle             four_seam   0               1.000000\n",
      "                                                1               0.333333\n",
      "                                                2               1.000000\n",
      "                 outside            curve       1               0.000000\n",
      "                                    cutter      2               0.000000\n",
      "                                    four_seam   1               0.000000\n",
      "                                                2               0.500000\n",
      "                                    slider      1               1.000000\n",
      "Name: has_swing_intention, dtype: float64\n",
      "\n",
      "釣高球在不同橫向位置，球種以及球數，揮空統計\n",
      "vertical_ending  horizontal_ending  pitch_type  strike_count\n",
      "high             middle             four_seam   0               0.0\n",
      "                                                1               0.0\n",
      "                                                2               1.0\n",
      "                 outside            slider      1               0.0\n",
      "Name: is_whiff, dtype: float64\n"
     ]
    }
   ],
   "source": [
    "high_off_zone_intension_detailed = high_off_zone_pitch_df.groupby(\n",
    "    ['vertical_ending', 'horizontal_ending', 'pitch_type', 'strike_count']\n",
    ")['has_swing_intention'].mean()\n",
    "\n",
    "print(\"釣高球在不同橫向位置，在不同球數及球種的出棒意圖\")\n",
    "print(high_off_zone_intension_detailed)\n",
    "\n",
    "high_off_zone_whiff_detailed = high_off_zone_swings.groupby(\n",
    "    ['vertical_ending', 'horizontal_ending', 'pitch_type', 'strike_count']\n",
    ")['is_whiff'].mean()\n",
    "\n",
    "print(\"\\n釣高球在不同橫向位置，球種以及球數，揮空統計\")\n",
    "print(high_off_zone_whiff_detailed)"
   ]
  },
  {
   "cell_type": "code",
   "execution_count": 57,
   "metadata": {},
   "outputs": [],
   "source": [
    "# TODO: 先不要這一段\n",
    "# # 計算差距\n",
    "# middle_swing_intention = high_off_zone_intension_detailed.xs('middle', level='horizontal_ending')\n",
    "# middle_whiff_rate = high_off_zone_whiff_detailed.xs('middle', level='horizontal_ending')\n",
    "\n",
    "# middle_swing_intention_avg = middle_swing_intention.mean()\n",
    "# middle_whiff_rate_avg = middle_whiff_rate.mean()\n",
    "\n",
    "# swing_intention_diff = middle_swing_intention_avg - overall_swing_intention_rate\n",
    "# whiff_rate_diff = middle_whiff_rate_avg - overall_whiff_rate\n",
    "\n",
    "# swing_intention_diff_pct = (swing_intention_diff / overall_swing_intention_rate) * 100\n",
    "# whiff_rate_diff_pct = (whiff_rate_diff / overall_whiff_rate) * 100\n",
    "\n",
    "# print(f\"中間位置揮棒意圖跟整體的差異: {swing_intention_diff_pct:.2f}%\")\n",
    "# print(f\"中間位置揮空比例跟整體的差異: {whiff_rate_diff_pct:.2f}%\")\n"
   ]
  },
  {
   "cell_type": "markdown",
   "metadata": {},
   "source": [
    "#### 中間位置釣高球是有效的，但不能太外角\n",
    "且不論球速是否領先都有一定效果"
   ]
  },
  {
   "cell_type": "markdown",
   "metadata": {},
   "source": [
    "好球帶附近位置又是如何呢？"
   ]
  },
  {
   "cell_type": "code",
   "execution_count": 58,
   "metadata": {},
   "outputs": [
    {
     "name": "stdout",
     "output_type": "stream",
     "text": [
      "投球終點在 high 位 zone 時的出棒意圖比例: 0.54\n",
      "投球終點在 high 位 zone 時的揮空比例: 0.39\n",
      "投球終點在 middle 位 zone 時的出棒意圖比例: 0.79\n",
      "投球終點在 middle 位 zone 時的揮空比例: 0.14\n",
      "投球終點在 low 位 zone 時的出棒意圖比例: 0.51\n",
      "投球終點在 low 位 zone 時的揮空比例: 0.44\n"
     ]
    }
   ],
   "source": [
    "# 根據垂直位置，球若在好球帶附近，看出棒意圖以及各自揮空的比率\n",
    "# TODO: 視覺化 九宮格\n",
    "for vertical_position in ['high', 'middle', 'low']:\n",
    "    specific_near_zone_df = pitches_df_cleaned[(pitches_df_cleaned['vertical_ending'] == vertical_position)]\n",
    "    \n",
    "    swing_intention_rate = specific_near_zone_df['has_swing_intention'].mean()\n",
    "    swings_df = specific_near_zone_df[specific_near_zone_df['has_swing'] == True]\n",
    "    whiff_rate = swings_df['is_whiff'].mean()\n",
    "    \n",
    "    print(f\"投球終點在 {vertical_position} 位 zone 時的出棒意圖比例: {swing_intention_rate:.2f}\")\n",
    "    print(f\"投球終點在 {vertical_position} 位 zone 時的揮空比例: {whiff_rate:.2f}\")\n"
   ]
  },
  {
   "cell_type": "markdown",
   "metadata": {},
   "source": [
    "喜歡內角，也不容易揮空"
   ]
  },
  {
   "cell_type": "code",
   "execution_count": 59,
   "metadata": {},
   "outputs": [
    {
     "name": "stdout",
     "output_type": "stream",
     "text": [
      "投球終點在 high 位 offzone 時的出棒意圖比例: 0.35\n",
      "投球終點在 high 位 offzone 時的揮空比例: 0.40\n",
      "投球終點在 middle 位 offzone 時的出棒意圖比例: nan\n",
      "投球終點在 middle 位 offzone 時的揮空比例: nan\n",
      "投球終點在 low 位 offzone 時的出棒意圖比例: 0.53\n",
      "投球終點在 low 位 offzone 時的揮空比例: 0.80\n"
     ]
    }
   ],
   "source": [
    "# 根據垂直位置 off-zone \n",
    "for vertical_position in ['high', 'middle', 'low']:\n",
    "    specific_off_zone_df = pitches_df_cleaned[(pitches_df_cleaned['vertical_ending'] == vertical_position) &\n",
    "                                              (pitches_df_cleaned['is_obvious_off_zone'] == True)]\n",
    "    \n",
    "    swing_intention_rate = specific_off_zone_df['has_swing_intention'].mean()\n",
    "    swings_df = specific_off_zone_df[specific_off_zone_df['has_swing'] == True]\n",
    "    whiff_rate = swings_df['is_whiff'].mean()\n",
    "    \n",
    "    print(f\"投球終點在 {vertical_position} 位 offzone 時的出棒意圖比例: {swing_intention_rate:.2f}\")\n",
    "    print(f\"投球終點在 {vertical_position} 位 offzone 時的揮空比例: {whiff_rate:.2f}\")\n"
   ]
  },
  {
   "cell_type": "markdown",
   "metadata": {},
   "source": [
    "**外角 offzone 低球** 容易吸引出棒且揮空\n",
    "\n",
    "但是出棒意圖需要進一步評估，需要驗證是否因為球種不同而有差\n",
    "\n",
    "這次的集合沒有觀察到 Middle off zone 的情況\n",
    "例如腰帶附近的觸身球"
   ]
  },
  {
   "cell_type": "markdown",
   "metadata": {},
   "source": [
    "### 極度拉打？"
   ]
  },
  {
   "cell_type": "markdown",
   "metadata": {},
   "source": [
    "### 外角低速球容易拉成滾地球？"
   ]
  },
  {
   "cell_type": "markdown",
   "metadata": {},
   "source": [
    "### 右投手外角滑球打不好？"
   ]
  },
  {
   "cell_type": "markdown",
   "metadata": {},
   "source": [
    "### 時機大致上正確，但是擊球點不好？"
   ]
  }
 ],
 "metadata": {
  "kernelspec": {
   "display_name": "data-science",
   "language": "python",
   "name": "python3"
  },
  "language_info": {
   "codemirror_mode": {
    "name": "ipython",
    "version": 3
   },
   "file_extension": ".py",
   "mimetype": "text/x-python",
   "name": "python",
   "nbconvert_exporter": "python",
   "pygments_lexer": "ipython3",
   "version": "3.8.16"
  }
 },
 "nbformat": 4,
 "nbformat_minor": 2
}
